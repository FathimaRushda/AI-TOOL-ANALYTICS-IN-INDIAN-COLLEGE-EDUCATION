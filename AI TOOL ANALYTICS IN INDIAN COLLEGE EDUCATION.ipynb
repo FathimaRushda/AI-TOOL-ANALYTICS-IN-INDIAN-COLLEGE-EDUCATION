{
 "cells": [
  {
   "cell_type": "markdown",
   "id": "e0834773-410e-49cb-b871-9d9686768e2b",
   "metadata": {},
   "source": [
    "# AI Tool Usage Among Indian College Students (2025): A Data-Driven Analysis"
   ]
  },
  {
   "cell_type": "code",
   "execution_count": 1,
   "id": "455a1104-8327-48a2-9367-77d00fa31f26",
   "metadata": {},
   "outputs": [],
   "source": [
    "import numpy as np\n",
    "import pandas as pd\n",
    "import seaborn as sns\n",
    "import matplotlib.pyplot as plt\n",
    "import warnings\n",
    "warnings.filterwarnings('ignore')\n",
    "%matplotlib inline\n"
   ]
  },
  {
   "cell_type": "code",
   "execution_count": 2,
   "id": "59215851-5fb3-4959-b4c7-56b0dbecfc92",
   "metadata": {},
   "outputs": [],
   "source": [
    "df=pd.read_csv(r\"C:\\Users\\Rushda\\Desktop\\Rushda\\Students.csv\")"
   ]
  },
  {
   "cell_type": "code",
   "execution_count": 3,
   "id": "65c0f533-2fa2-4122-a7db-2bd9ba0f8598",
   "metadata": {},
   "outputs": [
    {
     "data": {
      "text/html": [
       "<div>\n",
       "<style scoped>\n",
       "    .dataframe tbody tr th:only-of-type {\n",
       "        vertical-align: middle;\n",
       "    }\n",
       "\n",
       "    .dataframe tbody tr th {\n",
       "        vertical-align: top;\n",
       "    }\n",
       "\n",
       "    .dataframe thead th {\n",
       "        text-align: right;\n",
       "    }\n",
       "</style>\n",
       "<table border=\"1\" class=\"dataframe\">\n",
       "  <thead>\n",
       "    <tr style=\"text-align: right;\">\n",
       "      <th></th>\n",
       "      <th>Student_Name</th>\n",
       "      <th>College_Name</th>\n",
       "      <th>Stream</th>\n",
       "      <th>Year_of_Study</th>\n",
       "      <th>AI_Tools_Used</th>\n",
       "      <th>Daily_Usage_Hours</th>\n",
       "      <th>Use_Cases</th>\n",
       "      <th>Trust_in_AI_Tools</th>\n",
       "      <th>Impact_on_Grades</th>\n",
       "      <th>Do_Professors_Allow_Use</th>\n",
       "      <th>Preferred_AI_Tool</th>\n",
       "      <th>Awareness_Level</th>\n",
       "      <th>Willing_to_Pay_for_Access</th>\n",
       "      <th>State</th>\n",
       "      <th>Device_Used</th>\n",
       "      <th>Internet_Access</th>\n",
       "    </tr>\n",
       "  </thead>\n",
       "  <tbody>\n",
       "    <tr>\n",
       "      <th>0</th>\n",
       "      <td>Aarav</td>\n",
       "      <td>Indian Institute of Information Technology</td>\n",
       "      <td>Engineering</td>\n",
       "      <td>4</td>\n",
       "      <td>Gemini</td>\n",
       "      <td>0.9</td>\n",
       "      <td>Assignments, Coding Help</td>\n",
       "      <td>2</td>\n",
       "      <td>2</td>\n",
       "      <td>No</td>\n",
       "      <td>Copilot</td>\n",
       "      <td>9</td>\n",
       "      <td>Yes</td>\n",
       "      <td>Uttar pradesh</td>\n",
       "      <td>Mobile</td>\n",
       "      <td>Poor</td>\n",
       "    </tr>\n",
       "    <tr>\n",
       "      <th>1</th>\n",
       "      <td>Vivaan</td>\n",
       "      <td>Government Ram Bhajan Rai NES College, Jashpur</td>\n",
       "      <td>Commerce</td>\n",
       "      <td>2</td>\n",
       "      <td>ChatGPT</td>\n",
       "      <td>3.4</td>\n",
       "      <td>Learning new topics</td>\n",
       "      <td>3</td>\n",
       "      <td>-3</td>\n",
       "      <td>Yes</td>\n",
       "      <td>Other</td>\n",
       "      <td>6</td>\n",
       "      <td>No</td>\n",
       "      <td>Chhattisgarh</td>\n",
       "      <td>Laptop</td>\n",
       "      <td>Poor</td>\n",
       "    </tr>\n",
       "    <tr>\n",
       "      <th>2</th>\n",
       "      <td>Aditya</td>\n",
       "      <td>Dolphin PG Institute of BioMedical &amp; Natural</td>\n",
       "      <td>Science</td>\n",
       "      <td>2</td>\n",
       "      <td>Copilot</td>\n",
       "      <td>3.6</td>\n",
       "      <td>MCQ Practice, Projects</td>\n",
       "      <td>5</td>\n",
       "      <td>0</td>\n",
       "      <td>No</td>\n",
       "      <td>Gemini</td>\n",
       "      <td>1</td>\n",
       "      <td>No</td>\n",
       "      <td>Uttarakhand</td>\n",
       "      <td>Tablet</td>\n",
       "      <td>Poor</td>\n",
       "    </tr>\n",
       "    <tr>\n",
       "      <th>3</th>\n",
       "      <td>Vihaan</td>\n",
       "      <td>Shaheed Rajguru College of Applied Sciences for</td>\n",
       "      <td>Arts</td>\n",
       "      <td>2</td>\n",
       "      <td>Copilot</td>\n",
       "      <td>2.9</td>\n",
       "      <td>Content Writing</td>\n",
       "      <td>5</td>\n",
       "      <td>2</td>\n",
       "      <td>Yes</td>\n",
       "      <td>Gemini</td>\n",
       "      <td>5</td>\n",
       "      <td>No</td>\n",
       "      <td>Delhi ncr</td>\n",
       "      <td>Laptop</td>\n",
       "      <td>High</td>\n",
       "    </tr>\n",
       "    <tr>\n",
       "      <th>4</th>\n",
       "      <td>Arjun</td>\n",
       "      <td>Roorkee College of Engineering</td>\n",
       "      <td>Science</td>\n",
       "      <td>1</td>\n",
       "      <td>Gemini</td>\n",
       "      <td>0.9</td>\n",
       "      <td>Doubt Solving, Resume Writing</td>\n",
       "      <td>1</td>\n",
       "      <td>3</td>\n",
       "      <td>Yes</td>\n",
       "      <td>Other</td>\n",
       "      <td>8</td>\n",
       "      <td>Yes</td>\n",
       "      <td>Uttarakhand</td>\n",
       "      <td>Laptop</td>\n",
       "      <td>Medium</td>\n",
       "    </tr>\n",
       "  </tbody>\n",
       "</table>\n",
       "</div>"
      ],
      "text/plain": [
       "  Student_Name                                      College_Name       Stream  \\\n",
       "0        Aarav       Indian Institute of Information Technology   Engineering   \n",
       "1       Vivaan   Government Ram Bhajan Rai NES College, Jashpur      Commerce   \n",
       "2       Aditya     Dolphin PG Institute of BioMedical & Natural       Science   \n",
       "3       Vihaan  Shaheed Rajguru College of Applied Sciences for          Arts   \n",
       "4        Arjun                   Roorkee College of Engineering       Science   \n",
       "\n",
       "   Year_of_Study AI_Tools_Used  Daily_Usage_Hours  \\\n",
       "0              4        Gemini                0.9   \n",
       "1              2       ChatGPT                3.4   \n",
       "2              2       Copilot                3.6   \n",
       "3              2       Copilot                2.9   \n",
       "4              1        Gemini                0.9   \n",
       "\n",
       "                       Use_Cases  Trust_in_AI_Tools  Impact_on_Grades  \\\n",
       "0       Assignments, Coding Help                  2                 2   \n",
       "1            Learning new topics                  3                -3   \n",
       "2         MCQ Practice, Projects                  5                 0   \n",
       "3                Content Writing                  5                 2   \n",
       "4  Doubt Solving, Resume Writing                  1                 3   \n",
       "\n",
       "  Do_Professors_Allow_Use Preferred_AI_Tool  Awareness_Level  \\\n",
       "0                      No           Copilot                9   \n",
       "1                     Yes             Other                6   \n",
       "2                      No            Gemini                1   \n",
       "3                     Yes            Gemini                5   \n",
       "4                     Yes             Other                8   \n",
       "\n",
       "  Willing_to_Pay_for_Access          State Device_Used Internet_Access  \n",
       "0                       Yes  Uttar pradesh      Mobile            Poor  \n",
       "1                        No   Chhattisgarh      Laptop            Poor  \n",
       "2                        No    Uttarakhand      Tablet            Poor  \n",
       "3                        No      Delhi ncr      Laptop            High  \n",
       "4                       Yes    Uttarakhand      Laptop          Medium  "
      ]
     },
     "execution_count": 3,
     "metadata": {},
     "output_type": "execute_result"
    }
   ],
   "source": [
    "df.head()"
   ]
  },
  {
   "cell_type": "code",
   "execution_count": 4,
   "id": "4e8232cc-8afa-4761-a997-c9f0acb55494",
   "metadata": {},
   "outputs": [
    {
     "data": {
      "text/html": [
       "<div>\n",
       "<style scoped>\n",
       "    .dataframe tbody tr th:only-of-type {\n",
       "        vertical-align: middle;\n",
       "    }\n",
       "\n",
       "    .dataframe tbody tr th {\n",
       "        vertical-align: top;\n",
       "    }\n",
       "\n",
       "    .dataframe thead th {\n",
       "        text-align: right;\n",
       "    }\n",
       "</style>\n",
       "<table border=\"1\" class=\"dataframe\">\n",
       "  <thead>\n",
       "    <tr style=\"text-align: right;\">\n",
       "      <th></th>\n",
       "      <th>Student_Name</th>\n",
       "      <th>College_Name</th>\n",
       "      <th>Stream</th>\n",
       "      <th>Year_of_Study</th>\n",
       "      <th>AI_Tools_Used</th>\n",
       "      <th>Daily_Usage_Hours</th>\n",
       "      <th>Use_Cases</th>\n",
       "      <th>Trust_in_AI_Tools</th>\n",
       "      <th>Impact_on_Grades</th>\n",
       "      <th>Do_Professors_Allow_Use</th>\n",
       "      <th>Preferred_AI_Tool</th>\n",
       "      <th>Awareness_Level</th>\n",
       "      <th>Willing_to_Pay_for_Access</th>\n",
       "      <th>State</th>\n",
       "      <th>Device_Used</th>\n",
       "      <th>Internet_Access</th>\n",
       "    </tr>\n",
       "  </thead>\n",
       "  <tbody>\n",
       "    <tr>\n",
       "      <th>3609</th>\n",
       "      <td>Ishaan</td>\n",
       "      <td>St. Mira's College for Girls, Pune</td>\n",
       "      <td>Commerce</td>\n",
       "      <td>1</td>\n",
       "      <td>ChatGPT, Copilot</td>\n",
       "      <td>4.3</td>\n",
       "      <td>Doubt Solving, Resume Writing</td>\n",
       "      <td>2</td>\n",
       "      <td>2</td>\n",
       "      <td>Yes</td>\n",
       "      <td>Other</td>\n",
       "      <td>2</td>\n",
       "      <td>No</td>\n",
       "      <td>NaN</td>\n",
       "      <td>Mobile</td>\n",
       "      <td>High</td>\n",
       "    </tr>\n",
       "    <tr>\n",
       "      <th>3610</th>\n",
       "      <td>Rudra</td>\n",
       "      <td>Roorkee College of Pharmacy</td>\n",
       "      <td>Pharmacy</td>\n",
       "      <td>3</td>\n",
       "      <td>Copilot</td>\n",
       "      <td>3.0</td>\n",
       "      <td>Content Writing</td>\n",
       "      <td>2</td>\n",
       "      <td>1</td>\n",
       "      <td>No</td>\n",
       "      <td>Copilot</td>\n",
       "      <td>5</td>\n",
       "      <td>Yes</td>\n",
       "      <td>NaN</td>\n",
       "      <td>Tablet</td>\n",
       "      <td>Poor</td>\n",
       "    </tr>\n",
       "    <tr>\n",
       "      <th>3611</th>\n",
       "      <td>Dhruv</td>\n",
       "      <td>Bahona College, Jorhat</td>\n",
       "      <td>Agriculture</td>\n",
       "      <td>3</td>\n",
       "      <td>Gemini</td>\n",
       "      <td>2.7</td>\n",
       "      <td>Exam Prep, Notes</td>\n",
       "      <td>2</td>\n",
       "      <td>1</td>\n",
       "      <td>Yes</td>\n",
       "      <td>Copilot</td>\n",
       "      <td>3</td>\n",
       "      <td>No</td>\n",
       "      <td>NaN</td>\n",
       "      <td>Tablet</td>\n",
       "      <td>Poor</td>\n",
       "    </tr>\n",
       "    <tr>\n",
       "      <th>3612</th>\n",
       "      <td>Kabir</td>\n",
       "      <td>Sree Chitra Thirunal College of Engineering</td>\n",
       "      <td>Engineering</td>\n",
       "      <td>4</td>\n",
       "      <td>Gemini</td>\n",
       "      <td>2.7</td>\n",
       "      <td>Exam Prep, Notes</td>\n",
       "      <td>3</td>\n",
       "      <td>3</td>\n",
       "      <td>Yes</td>\n",
       "      <td>Gemini</td>\n",
       "      <td>3</td>\n",
       "      <td>No</td>\n",
       "      <td>NaN</td>\n",
       "      <td>Laptop</td>\n",
       "      <td>High</td>\n",
       "    </tr>\n",
       "    <tr>\n",
       "      <th>3613</th>\n",
       "      <td>Atharv</td>\n",
       "      <td>Poona College of Pharmacy, Pune</td>\n",
       "      <td>Pharmacy</td>\n",
       "      <td>3</td>\n",
       "      <td>Copilot</td>\n",
       "      <td>0.9</td>\n",
       "      <td>Exam Prep, Notes</td>\n",
       "      <td>1</td>\n",
       "      <td>2</td>\n",
       "      <td>No</td>\n",
       "      <td>Copilot</td>\n",
       "      <td>2</td>\n",
       "      <td>No</td>\n",
       "      <td>NaN</td>\n",
       "      <td>Mobile</td>\n",
       "      <td>High</td>\n",
       "    </tr>\n",
       "  </tbody>\n",
       "</table>\n",
       "</div>"
      ],
      "text/plain": [
       "     Student_Name                                  College_Name       Stream  \\\n",
       "3609       Ishaan           St. Mira's College for Girls, Pune      Commerce   \n",
       "3610        Rudra                  Roorkee College of Pharmacy      Pharmacy   \n",
       "3611        Dhruv                       Bahona College, Jorhat   Agriculture   \n",
       "3612        Kabir  Sree Chitra Thirunal College of Engineering   Engineering   \n",
       "3613       Atharv              Poona College of Pharmacy, Pune      Pharmacy   \n",
       "\n",
       "      Year_of_Study     AI_Tools_Used  Daily_Usage_Hours  \\\n",
       "3609              1  ChatGPT, Copilot                4.3   \n",
       "3610              3           Copilot                3.0   \n",
       "3611              3            Gemini                2.7   \n",
       "3612              4            Gemini                2.7   \n",
       "3613              3           Copilot                0.9   \n",
       "\n",
       "                          Use_Cases  Trust_in_AI_Tools  Impact_on_Grades  \\\n",
       "3609  Doubt Solving, Resume Writing                  2                 2   \n",
       "3610                Content Writing                  2                 1   \n",
       "3611               Exam Prep, Notes                  2                 1   \n",
       "3612               Exam Prep, Notes                  3                 3   \n",
       "3613               Exam Prep, Notes                  1                 2   \n",
       "\n",
       "     Do_Professors_Allow_Use Preferred_AI_Tool  Awareness_Level  \\\n",
       "3609                     Yes             Other                2   \n",
       "3610                      No           Copilot                5   \n",
       "3611                     Yes           Copilot                3   \n",
       "3612                     Yes            Gemini                3   \n",
       "3613                      No           Copilot                2   \n",
       "\n",
       "     Willing_to_Pay_for_Access State Device_Used Internet_Access  \n",
       "3609                        No   NaN      Mobile            High  \n",
       "3610                       Yes   NaN      Tablet            Poor  \n",
       "3611                        No   NaN      Tablet            Poor  \n",
       "3612                        No   NaN      Laptop            High  \n",
       "3613                        No   NaN      Mobile            High  "
      ]
     },
     "execution_count": 4,
     "metadata": {},
     "output_type": "execute_result"
    }
   ],
   "source": [
    "df.tail()"
   ]
  },
  {
   "cell_type": "code",
   "execution_count": 5,
   "id": "66d4c0ff-1194-4e87-a6a9-0ba3efbb2154",
   "metadata": {},
   "outputs": [
    {
     "data": {
      "text/plain": [
       "(3614, 16)"
      ]
     },
     "execution_count": 5,
     "metadata": {},
     "output_type": "execute_result"
    }
   ],
   "source": [
    "df.shape"
   ]
  },
  {
   "cell_type": "code",
   "execution_count": 6,
   "id": "b6ac5958-e1c7-4ac7-8858-18d85a309fdb",
   "metadata": {},
   "outputs": [
    {
     "data": {
      "text/plain": [
       "57824"
      ]
     },
     "execution_count": 6,
     "metadata": {},
     "output_type": "execute_result"
    }
   ],
   "source": [
    "df.size"
   ]
  },
  {
   "cell_type": "code",
   "execution_count": 7,
   "id": "91a26d87-8e96-4348-87bd-e22fab147bdf",
   "metadata": {},
   "outputs": [
    {
     "name": "stdout",
     "output_type": "stream",
     "text": [
      "<class 'pandas.core.frame.DataFrame'>\n",
      "RangeIndex: 3614 entries, 0 to 3613\n",
      "Data columns (total 16 columns):\n",
      " #   Column                     Non-Null Count  Dtype  \n",
      "---  ------                     --------------  -----  \n",
      " 0   Student_Name               3614 non-null   object \n",
      " 1   College_Name               3614 non-null   object \n",
      " 2   Stream                     3614 non-null   object \n",
      " 3   Year_of_Study              3614 non-null   int64  \n",
      " 4   AI_Tools_Used              3614 non-null   object \n",
      " 5   Daily_Usage_Hours          3614 non-null   float64\n",
      " 6   Use_Cases                  3614 non-null   object \n",
      " 7   Trust_in_AI_Tools          3614 non-null   int64  \n",
      " 8   Impact_on_Grades           3614 non-null   int64  \n",
      " 9   Do_Professors_Allow_Use    3614 non-null   object \n",
      " 10  Preferred_AI_Tool          3614 non-null   object \n",
      " 11  Awareness_Level            3614 non-null   int64  \n",
      " 12  Willing_to_Pay_for_Access  3614 non-null   object \n",
      " 13  State                      2000 non-null   object \n",
      " 14  Device_Used                3614 non-null   object \n",
      " 15  Internet_Access            3614 non-null   object \n",
      "dtypes: float64(1), int64(4), object(11)\n",
      "memory usage: 451.9+ KB\n"
     ]
    }
   ],
   "source": [
    "df.info()"
   ]
  },
  {
   "cell_type": "code",
   "execution_count": 8,
   "id": "5e253521-7c0c-4a33-a199-d0e3e1038fbb",
   "metadata": {},
   "outputs": [
    {
     "data": {
      "text/html": [
       "<div>\n",
       "<style scoped>\n",
       "    .dataframe tbody tr th:only-of-type {\n",
       "        vertical-align: middle;\n",
       "    }\n",
       "\n",
       "    .dataframe tbody tr th {\n",
       "        vertical-align: top;\n",
       "    }\n",
       "\n",
       "    .dataframe thead th {\n",
       "        text-align: right;\n",
       "    }\n",
       "</style>\n",
       "<table border=\"1\" class=\"dataframe\">\n",
       "  <thead>\n",
       "    <tr style=\"text-align: right;\">\n",
       "      <th></th>\n",
       "      <th>count</th>\n",
       "      <th>unique</th>\n",
       "      <th>top</th>\n",
       "      <th>freq</th>\n",
       "      <th>mean</th>\n",
       "      <th>std</th>\n",
       "      <th>min</th>\n",
       "      <th>25%</th>\n",
       "      <th>50%</th>\n",
       "      <th>75%</th>\n",
       "      <th>max</th>\n",
       "    </tr>\n",
       "  </thead>\n",
       "  <tbody>\n",
       "    <tr>\n",
       "      <th>Student_Name</th>\n",
       "      <td>3614</td>\n",
       "      <td>40</td>\n",
       "      <td>Aarav</td>\n",
       "      <td>91</td>\n",
       "      <td>NaN</td>\n",
       "      <td>NaN</td>\n",
       "      <td>NaN</td>\n",
       "      <td>NaN</td>\n",
       "      <td>NaN</td>\n",
       "      <td>NaN</td>\n",
       "      <td>NaN</td>\n",
       "    </tr>\n",
       "    <tr>\n",
       "      <th>College_Name</th>\n",
       "      <td>3614</td>\n",
       "      <td>1246</td>\n",
       "      <td>National Institute of Technology</td>\n",
       "      <td>231</td>\n",
       "      <td>NaN</td>\n",
       "      <td>NaN</td>\n",
       "      <td>NaN</td>\n",
       "      <td>NaN</td>\n",
       "      <td>NaN</td>\n",
       "      <td>NaN</td>\n",
       "      <td>NaN</td>\n",
       "    </tr>\n",
       "    <tr>\n",
       "      <th>Stream</th>\n",
       "      <td>3614</td>\n",
       "      <td>10</td>\n",
       "      <td>Science</td>\n",
       "      <td>593</td>\n",
       "      <td>NaN</td>\n",
       "      <td>NaN</td>\n",
       "      <td>NaN</td>\n",
       "      <td>NaN</td>\n",
       "      <td>NaN</td>\n",
       "      <td>NaN</td>\n",
       "      <td>NaN</td>\n",
       "    </tr>\n",
       "    <tr>\n",
       "      <th>Year_of_Study</th>\n",
       "      <td>3614.0</td>\n",
       "      <td>NaN</td>\n",
       "      <td>NaN</td>\n",
       "      <td>NaN</td>\n",
       "      <td>2.472883</td>\n",
       "      <td>1.107912</td>\n",
       "      <td>1.0</td>\n",
       "      <td>2.0</td>\n",
       "      <td>2.0</td>\n",
       "      <td>3.0</td>\n",
       "      <td>4.0</td>\n",
       "    </tr>\n",
       "    <tr>\n",
       "      <th>AI_Tools_Used</th>\n",
       "      <td>3614</td>\n",
       "      <td>9</td>\n",
       "      <td>ChatGPT</td>\n",
       "      <td>626</td>\n",
       "      <td>NaN</td>\n",
       "      <td>NaN</td>\n",
       "      <td>NaN</td>\n",
       "      <td>NaN</td>\n",
       "      <td>NaN</td>\n",
       "      <td>NaN</td>\n",
       "      <td>NaN</td>\n",
       "    </tr>\n",
       "    <tr>\n",
       "      <th>Daily_Usage_Hours</th>\n",
       "      <td>3614.0</td>\n",
       "      <td>NaN</td>\n",
       "      <td>NaN</td>\n",
       "      <td>NaN</td>\n",
       "      <td>2.559685</td>\n",
       "      <td>1.213319</td>\n",
       "      <td>0.5</td>\n",
       "      <td>1.5</td>\n",
       "      <td>2.6</td>\n",
       "      <td>3.6</td>\n",
       "      <td>5.0</td>\n",
       "    </tr>\n",
       "    <tr>\n",
       "      <th>Use_Cases</th>\n",
       "      <td>3614</td>\n",
       "      <td>333</td>\n",
       "      <td>Assignments, Coding Help</td>\n",
       "      <td>534</td>\n",
       "      <td>NaN</td>\n",
       "      <td>NaN</td>\n",
       "      <td>NaN</td>\n",
       "      <td>NaN</td>\n",
       "      <td>NaN</td>\n",
       "      <td>NaN</td>\n",
       "      <td>NaN</td>\n",
       "    </tr>\n",
       "    <tr>\n",
       "      <th>Trust_in_AI_Tools</th>\n",
       "      <td>3614.0</td>\n",
       "      <td>NaN</td>\n",
       "      <td>NaN</td>\n",
       "      <td>NaN</td>\n",
       "      <td>3.023243</td>\n",
       "      <td>1.436934</td>\n",
       "      <td>1.0</td>\n",
       "      <td>2.0</td>\n",
       "      <td>3.0</td>\n",
       "      <td>4.0</td>\n",
       "      <td>5.0</td>\n",
       "    </tr>\n",
       "    <tr>\n",
       "      <th>Impact_on_Grades</th>\n",
       "      <td>3614.0</td>\n",
       "      <td>NaN</td>\n",
       "      <td>NaN</td>\n",
       "      <td>NaN</td>\n",
       "      <td>0.00332</td>\n",
       "      <td>2.370706</td>\n",
       "      <td>-5.0</td>\n",
       "      <td>-2.0</td>\n",
       "      <td>0.0</td>\n",
       "      <td>2.0</td>\n",
       "      <td>5.0</td>\n",
       "    </tr>\n",
       "    <tr>\n",
       "      <th>Do_Professors_Allow_Use</th>\n",
       "      <td>3614</td>\n",
       "      <td>2</td>\n",
       "      <td>No</td>\n",
       "      <td>1886</td>\n",
       "      <td>NaN</td>\n",
       "      <td>NaN</td>\n",
       "      <td>NaN</td>\n",
       "      <td>NaN</td>\n",
       "      <td>NaN</td>\n",
       "      <td>NaN</td>\n",
       "      <td>NaN</td>\n",
       "    </tr>\n",
       "    <tr>\n",
       "      <th>Preferred_AI_Tool</th>\n",
       "      <td>3614</td>\n",
       "      <td>6</td>\n",
       "      <td>ChatGPT</td>\n",
       "      <td>859</td>\n",
       "      <td>NaN</td>\n",
       "      <td>NaN</td>\n",
       "      <td>NaN</td>\n",
       "      <td>NaN</td>\n",
       "      <td>NaN</td>\n",
       "      <td>NaN</td>\n",
       "      <td>NaN</td>\n",
       "    </tr>\n",
       "    <tr>\n",
       "      <th>Awareness_Level</th>\n",
       "      <td>3614.0</td>\n",
       "      <td>NaN</td>\n",
       "      <td>NaN</td>\n",
       "      <td>NaN</td>\n",
       "      <td>5.828445</td>\n",
       "      <td>2.925481</td>\n",
       "      <td>1.0</td>\n",
       "      <td>3.0</td>\n",
       "      <td>6.0</td>\n",
       "      <td>8.0</td>\n",
       "      <td>10.0</td>\n",
       "    </tr>\n",
       "    <tr>\n",
       "      <th>Willing_to_Pay_for_Access</th>\n",
       "      <td>3614</td>\n",
       "      <td>2</td>\n",
       "      <td>No</td>\n",
       "      <td>1811</td>\n",
       "      <td>NaN</td>\n",
       "      <td>NaN</td>\n",
       "      <td>NaN</td>\n",
       "      <td>NaN</td>\n",
       "      <td>NaN</td>\n",
       "      <td>NaN</td>\n",
       "      <td>NaN</td>\n",
       "    </tr>\n",
       "    <tr>\n",
       "      <th>State</th>\n",
       "      <td>2000</td>\n",
       "      <td>34</td>\n",
       "      <td>Maharashtra</td>\n",
       "      <td>106</td>\n",
       "      <td>NaN</td>\n",
       "      <td>NaN</td>\n",
       "      <td>NaN</td>\n",
       "      <td>NaN</td>\n",
       "      <td>NaN</td>\n",
       "      <td>NaN</td>\n",
       "      <td>NaN</td>\n",
       "    </tr>\n",
       "    <tr>\n",
       "      <th>Device_Used</th>\n",
       "      <td>3614</td>\n",
       "      <td>3</td>\n",
       "      <td>Laptop</td>\n",
       "      <td>1336</td>\n",
       "      <td>NaN</td>\n",
       "      <td>NaN</td>\n",
       "      <td>NaN</td>\n",
       "      <td>NaN</td>\n",
       "      <td>NaN</td>\n",
       "      <td>NaN</td>\n",
       "      <td>NaN</td>\n",
       "    </tr>\n",
       "    <tr>\n",
       "      <th>Internet_Access</th>\n",
       "      <td>3614</td>\n",
       "      <td>3</td>\n",
       "      <td>Medium</td>\n",
       "      <td>1260</td>\n",
       "      <td>NaN</td>\n",
       "      <td>NaN</td>\n",
       "      <td>NaN</td>\n",
       "      <td>NaN</td>\n",
       "      <td>NaN</td>\n",
       "      <td>NaN</td>\n",
       "      <td>NaN</td>\n",
       "    </tr>\n",
       "  </tbody>\n",
       "</table>\n",
       "</div>"
      ],
      "text/plain": [
       "                            count unique                                top  \\\n",
       "Student_Name                 3614     40                              Aarav   \n",
       "College_Name                 3614   1246  National Institute of Technology    \n",
       "Stream                       3614     10                            Science   \n",
       "Year_of_Study              3614.0    NaN                                NaN   \n",
       "AI_Tools_Used                3614      9                            ChatGPT   \n",
       "Daily_Usage_Hours          3614.0    NaN                                NaN   \n",
       "Use_Cases                    3614    333           Assignments, Coding Help   \n",
       "Trust_in_AI_Tools          3614.0    NaN                                NaN   \n",
       "Impact_on_Grades           3614.0    NaN                                NaN   \n",
       "Do_Professors_Allow_Use      3614      2                                 No   \n",
       "Preferred_AI_Tool            3614      6                            ChatGPT   \n",
       "Awareness_Level            3614.0    NaN                                NaN   \n",
       "Willing_to_Pay_for_Access    3614      2                                 No   \n",
       "State                        2000     34                        Maharashtra   \n",
       "Device_Used                  3614      3                             Laptop   \n",
       "Internet_Access              3614      3                             Medium   \n",
       "\n",
       "                           freq      mean       std  min  25%  50%  75%   max  \n",
       "Student_Name                 91       NaN       NaN  NaN  NaN  NaN  NaN   NaN  \n",
       "College_Name                231       NaN       NaN  NaN  NaN  NaN  NaN   NaN  \n",
       "Stream                      593       NaN       NaN  NaN  NaN  NaN  NaN   NaN  \n",
       "Year_of_Study               NaN  2.472883  1.107912  1.0  2.0  2.0  3.0   4.0  \n",
       "AI_Tools_Used               626       NaN       NaN  NaN  NaN  NaN  NaN   NaN  \n",
       "Daily_Usage_Hours           NaN  2.559685  1.213319  0.5  1.5  2.6  3.6   5.0  \n",
       "Use_Cases                   534       NaN       NaN  NaN  NaN  NaN  NaN   NaN  \n",
       "Trust_in_AI_Tools           NaN  3.023243  1.436934  1.0  2.0  3.0  4.0   5.0  \n",
       "Impact_on_Grades            NaN   0.00332  2.370706 -5.0 -2.0  0.0  2.0   5.0  \n",
       "Do_Professors_Allow_Use    1886       NaN       NaN  NaN  NaN  NaN  NaN   NaN  \n",
       "Preferred_AI_Tool           859       NaN       NaN  NaN  NaN  NaN  NaN   NaN  \n",
       "Awareness_Level             NaN  5.828445  2.925481  1.0  3.0  6.0  8.0  10.0  \n",
       "Willing_to_Pay_for_Access  1811       NaN       NaN  NaN  NaN  NaN  NaN   NaN  \n",
       "State                       106       NaN       NaN  NaN  NaN  NaN  NaN   NaN  \n",
       "Device_Used                1336       NaN       NaN  NaN  NaN  NaN  NaN   NaN  \n",
       "Internet_Access            1260       NaN       NaN  NaN  NaN  NaN  NaN   NaN  "
      ]
     },
     "execution_count": 8,
     "metadata": {},
     "output_type": "execute_result"
    }
   ],
   "source": [
    "df.describe(include='all').T"
   ]
  },
  {
   "cell_type": "code",
   "execution_count": 9,
   "id": "2de67669-e9ec-430d-8b50-086884c14ffe",
   "metadata": {},
   "outputs": [
    {
     "data": {
      "text/plain": [
       "Student_Name                   40\n",
       "College_Name                 1246\n",
       "Stream                         10\n",
       "Year_of_Study                   4\n",
       "AI_Tools_Used                   9\n",
       "Daily_Usage_Hours              46\n",
       "Use_Cases                     333\n",
       "Trust_in_AI_Tools               5\n",
       "Impact_on_Grades               11\n",
       "Do_Professors_Allow_Use         2\n",
       "Preferred_AI_Tool               6\n",
       "Awareness_Level                10\n",
       "Willing_to_Pay_for_Access       2\n",
       "State                          34\n",
       "Device_Used                     3\n",
       "Internet_Access                 3\n",
       "dtype: int64"
      ]
     },
     "execution_count": 9,
     "metadata": {},
     "output_type": "execute_result"
    }
   ],
   "source": [
    "df.nunique()"
   ]
  },
  {
   "cell_type": "code",
   "execution_count": 10,
   "id": "dc264f28-740d-4998-bc0c-203f65a82b8e",
   "metadata": {},
   "outputs": [
    {
     "name": "stdout",
     "output_type": "stream",
     "text": [
      "Student_Name\n",
      "['Aarav' 'Vivaan' 'Aditya' 'Vihaan' 'Arjun' 'Sai' 'Reyansh' 'Ayaan'\n",
      " 'Krishna' 'Ishaan' 'Rudra' 'Dhruv' 'Kabir' 'Atharv' 'Om' 'Anaya' 'Siya'\n",
      " 'Diya' 'Myra' 'Aadhya' 'Riya' 'Pari' 'Anika' 'Ira' 'Meera' 'Saanvi'\n",
      " 'Navya' 'Aarohi' 'Prisha' 'Ishita' 'Rakhi' 'Ramya' 'Sneha' 'Divya' 'Neha'\n",
      " 'Pooja' 'Kavya' 'Aishwarya' 'Shreya' 'Nandini']\n",
      "--------------------------------------------------\n",
      "\n",
      "\n",
      "College_Name\n",
      "['Indian Institute of Information Technology '\n",
      " 'Government Ram Bhajan Rai NES College, Jashpur '\n",
      " 'Dolphin PG Institute of BioMedical & Natural ' ...\n",
      " 'National Research Centre on Mithun '\n",
      " 'Himalayan Pharmacy Institute, East Sikkim '\n",
      " 'Baba Saheb Bhimrao Ambedkar Law College ']\n",
      "--------------------------------------------------\n",
      "\n",
      "\n",
      "Stream\n",
      "['Engineering' 'Commerce' 'Science' 'Arts' 'Medical' 'Management' 'Law'\n",
      " 'Pharmacy' 'Agriculture' 'Hotel-management']\n",
      "--------------------------------------------------\n",
      "\n",
      "\n",
      "Year_of_Study\n",
      "[4 2 1 3]\n",
      "--------------------------------------------------\n",
      "\n",
      "\n",
      "AI_Tools_Used\n",
      "['Gemini' 'ChatGPT' 'Copilot' 'ChatGPT, Gemini, Copilot'\n",
      " 'ChatGPT, Copilot' 'Gemini, Midjourney' 'Other' 'Bard' 'Claude']\n",
      "--------------------------------------------------\n",
      "\n",
      "\n",
      "Daily_Usage_Hours\n",
      "[0.9 3.4 3.6 2.9 0.8 2.2 2.4 2.1 1.4 1.  1.2 4.4 4.1 4.3 2.5 3.2 3.7 3.8\n",
      " 4.2 1.6 3.1 0.5 1.8 0.7 2.6 1.1 0.6 2.7 1.9 3.9 1.7 1.3 2.  1.5 3.3 3.\n",
      " 2.3 4.5 3.5 2.8 4.  4.9 4.8 4.7 4.6 5. ]\n",
      "--------------------------------------------------\n",
      "\n",
      "\n",
      "Use_Cases\n",
      "['Assignments, Coding Help' 'Learning new topics' 'MCQ Practice, Projects'\n",
      " 'Content Writing' 'Doubt Solving, Resume Writing' 'Exam Prep, Notes'\n",
      " 'MCQ Practice' 'Doubt Solving' 'Project Work' 'Coding Help, MCQ Practice'\n",
      " 'Coding Help, Resume Writing, Content Writing'\n",
      " 'Project Work, Content Writing'\n",
      " 'Doubt Solving, Content Writing, Learning new topics' 'Resume Writing'\n",
      " 'Doubt Solving, Content Writing, Project Work'\n",
      " 'Coding Help, Content Writing, Project Work' 'Coding Help'\n",
      " 'Resume Writing, Doubt Solving, Learning new topics'\n",
      " 'Learning new topics, Exam Preparation, Content Writing' 'Assignments'\n",
      " 'Exam Preparation, MCQ Practice, Project Work'\n",
      " 'Exam Preparation, MCQ Practice'\n",
      " 'Exam Preparation, Resume Writing, Coding Help'\n",
      " 'Doubt Solving, Resume Writing, Assignments'\n",
      " 'MCQ Practice, Assignments, Content Writing'\n",
      " 'Exam Preparation, Learning new topics' 'Coding Help, Resume Writing'\n",
      " 'Content Writing, Exam Preparation, Resume Writing'\n",
      " 'Project Work, Assignments, Exam Preparation'\n",
      " 'MCQ Practice, Doubt Solving'\n",
      " 'Learning new topics, Coding Help, Doubt Solving'\n",
      " 'Project Work, Resume Writing'\n",
      " 'Learning new topics, Exam Preparation, MCQ Practice'\n",
      " 'Learning new topics, Coding Help, Project Work' 'Exam Preparation'\n",
      " 'Resume Writing, MCQ Practice' 'Assignments, Project Work, MCQ Practice'\n",
      " 'Learning new topics, Project Work' 'Content Writing, Coding Help'\n",
      " 'Coding Help, Resume Writing, Exam Preparation'\n",
      " 'MCQ Practice, Coding Help, Learning new topics'\n",
      " 'Assignments, Project Work'\n",
      " 'Exam Preparation, Doubt Solving, MCQ Practice'\n",
      " 'Learning new topics, Assignments' 'Doubt Solving, Assignments'\n",
      " 'Project Work, Learning new topics'\n",
      " 'Resume Writing, MCQ Practice, Coding Help'\n",
      " 'Resume Writing, Content Writing, Assignments'\n",
      " 'Resume Writing, Assignments'\n",
      " 'Content Writing, Coding Help, Exam Preparation'\n",
      " 'Project Work, Content Writing, Exam Preparation'\n",
      " 'Exam Preparation, Coding Help, Learning new topics'\n",
      " 'Exam Preparation, Coding Help'\n",
      " 'Assignments, Content Writing, Exam Preparation'\n",
      " 'Project Work, Assignments' 'Exam Preparation, Doubt Solving'\n",
      " 'Exam Preparation, Resume Writing' 'MCQ Practice, Project Work'\n",
      " 'Coding Help, Exam Preparation, Doubt Solving'\n",
      " 'Resume Writing, Doubt Solving' 'Content Writing, Assignments'\n",
      " 'Project Work, Content Writing, Assignments'\n",
      " 'Content Writing, Resume Writing, Learning new topics'\n",
      " 'Coding Help, Exam Preparation' 'Learning new topics, Content Writing'\n",
      " 'Resume Writing, Project Work, MCQ Practice'\n",
      " 'Assignments, Learning new topics'\n",
      " 'Content Writing, Resume Writing, Assignments'\n",
      " 'Doubt Solving, Coding Help'\n",
      " 'Doubt Solving, Content Writing, MCQ Practice'\n",
      " 'Resume Writing, Coding Help' 'Content Writing, Learning new topics'\n",
      " 'MCQ Practice, Project Work, Exam Preparation'\n",
      " 'Resume Writing, Learning new topics' 'Doubt Solving, Content Writing'\n",
      " 'Learning new topics, Coding Help'\n",
      " 'Learning new topics, Coding Help, MCQ Practice'\n",
      " 'Coding Help, Project Work' 'Learning new topics, Resume Writing'\n",
      " 'Exam Preparation, Doubt Solving, Project Work'\n",
      " 'Content Writing, Doubt Solving' 'Coding Help, Doubt Solving'\n",
      " 'Resume Writing, Assignments, MCQ Practice'\n",
      " 'Resume Writing, Learning new topics, Doubt Solving'\n",
      " 'Project Work, Content Writing, Resume Writing'\n",
      " 'Content Writing, Resume Writing'\n",
      " 'Doubt Solving, Assignments, Learning new topics'\n",
      " 'Learning new topics, MCQ Practice' 'Coding Help, Learning new topics'\n",
      " 'Assignments, Content Writing'\n",
      " 'MCQ Practice, Content Writing, Resume Writing'\n",
      " 'Learning new topics, Project Work, Resume Writing'\n",
      " 'Exam Preparation, MCQ Practice, Content Writing'\n",
      " 'Learning new topics, Resume Writing, Project Work'\n",
      " 'MCQ Practice, Learning new topics'\n",
      " 'Resume Writing, Doubt Solving, Coding Help'\n",
      " 'Project Work, Assignments, MCQ Practice'\n",
      " 'Project Work, Exam Preparation' 'Project Work, MCQ Practice'\n",
      " 'Exam Preparation, Content Writing, Doubt Solving'\n",
      " 'MCQ Practice, Learning new topics, Content Writing'\n",
      " 'Learning new topics, Doubt Solving'\n",
      " 'Doubt Solving, Exam Preparation, Learning new topics'\n",
      " 'Assignments, Exam Preparation, Resume Writing'\n",
      " 'Exam Preparation, Assignments, Learning new topics'\n",
      " 'Learning new topics, Doubt Solving, Exam Preparation'\n",
      " 'MCQ Practice, Exam Preparation, Resume Writing'\n",
      " 'Coding Help, Learning new topics, MCQ Practice'\n",
      " 'MCQ Practice, Doubt Solving, Assignments' 'Assignments, Doubt Solving'\n",
      " 'Content Writing, MCQ Practice' 'MCQ Practice, Resume Writing'\n",
      " 'MCQ Practice, Assignments, Learning new topics'\n",
      " 'Assignments, Exam Preparation' 'Assignments, MCQ Practice'\n",
      " 'Doubt Solving, Project Work'\n",
      " 'Learning new topics, MCQ Practice, Resume Writing'\n",
      " 'Exam Preparation, Assignments, Resume Writing'\n",
      " 'Doubt Solving, Learning new topics'\n",
      " 'Assignments, Doubt Solving, Project Work'\n",
      " 'Coding Help, Assignments, Exam Preparation'\n",
      " 'Assignments, Resume Writing, Project Work'\n",
      " 'Project Work, Learning new topics, Assignments'\n",
      " 'MCQ Practice, Coding Help' 'Content Writing, Project Work'\n",
      " 'Resume Writing, Content Writing, Doubt Solving'\n",
      " 'MCQ Practice, Exam Preparation, Project Work'\n",
      " 'Project Work, Doubt Solving, Assignments'\n",
      " 'Coding Help, Doubt Solving, Project Work' 'Coding Help, Assignments'\n",
      " 'Doubt Solving, Resume Writing, Exam Preparation'\n",
      " 'MCQ Practice, Exam Preparation'\n",
      " 'Assignments, Learning new topics, Doubt Solving'\n",
      " 'Exam Preparation, Coding Help, Content Writing'\n",
      " 'MCQ Practice, Content Writing, Project Work'\n",
      " 'Content Writing, Assignments, Project Work'\n",
      " 'Doubt Solving, Project Work, MCQ Practice'\n",
      " 'Coding Help, Content Writing' 'Resume Writing, Coding Help, Assignments'\n",
      " 'Project Work, MCQ Practice, Resume Writing'\n",
      " 'Assignments, Project Work, Doubt Solving'\n",
      " 'Content Writing, Assignments, Coding Help'\n",
      " 'Project Work, Resume Writing, Exam Preparation'\n",
      " 'Doubt Solving, Exam Preparation'\n",
      " 'Assignments, Project Work, Exam Preparation'\n",
      " 'Assignments, MCQ Practice, Content Writing'\n",
      " 'Learning new topics, Resume Writing, Content Writing'\n",
      " 'Project Work, Exam Preparation, Learning new topics'\n",
      " 'Coding Help, MCQ Practice, Resume Writing'\n",
      " 'Resume Writing, Project Work, Coding Help'\n",
      " 'Exam Preparation, MCQ Practice, Assignments'\n",
      " 'Content Writing, Coding Help, Learning new topics'\n",
      " 'MCQ Practice, Content Writing'\n",
      " 'Doubt Solving, Project Work, Assignments'\n",
      " 'Project Work, Assignments, Doubt Solving'\n",
      " 'Content Writing, Project Work, MCQ Practice'\n",
      " 'Learning new topics, Content Writing, Resume Writing'\n",
      " 'Content Writing, Project Work, Exam Preparation'\n",
      " 'Exam Preparation, Resume Writing, Doubt Solving'\n",
      " 'MCQ Practice, Learning new topics, Assignments'\n",
      " 'Assignments, Content Writing, MCQ Practice'\n",
      " 'Exam Preparation, MCQ Practice, Learning new topics'\n",
      " 'Coding Help, Doubt Solving, Resume Writing'\n",
      " 'Learning new topics, Project Work, Doubt Solving'\n",
      " 'Coding Help, Learning new topics, Project Work'\n",
      " 'Assignments, Resume Writing'\n",
      " 'Doubt Solving, MCQ Practice, Learning new topics'\n",
      " 'Assignments, Doubt Solving, Learning new topics'\n",
      " 'Content Writing, MCQ Practice, Learning new topics'\n",
      " 'Exam Preparation, Coding Help, Assignments'\n",
      " 'Project Work, Coding Help, Resume Writing' 'Doubt Solving, MCQ Practice'\n",
      " 'Coding Help, Assignments, MCQ Practice'\n",
      " 'Content Writing, MCQ Practice, Project Work'\n",
      " 'Content Writing, Assignments, MCQ Practice'\n",
      " 'Doubt Solving, Coding Help, MCQ Practice'\n",
      " 'Resume Writing, Assignments, Coding Help' 'Project Work, Doubt Solving'\n",
      " 'Learning new topics, Assignments, Content Writing'\n",
      " 'Learning new topics, MCQ Practice, Exam Preparation'\n",
      " 'MCQ Practice, Coding Help, Resume Writing'\n",
      " 'Learning new topics, Doubt Solving, MCQ Practice'\n",
      " 'Coding Help, Project Work, Resume Writing'\n",
      " 'Resume Writing, Exam Preparation, Doubt Solving'\n",
      " 'Resume Writing, Project Work, Learning new topics'\n",
      " 'Exam Preparation, Doubt Solving, Coding Help'\n",
      " 'Coding Help, Project Work, Doubt Solving'\n",
      " 'Content Writing, Doubt Solving, Project Work'\n",
      " 'Exam Preparation, Content Writing, Resume Writing'\n",
      " 'Project Work, Coding Help' 'Assignments, Coding Help, Doubt Solving'\n",
      " 'Resume Writing, Project Work'\n",
      " 'Content Writing, Exam Preparation, MCQ Practice'\n",
      " 'Learning new topics, Coding Help, Content Writing'\n",
      " 'Exam Preparation, Assignments, Project Work'\n",
      " 'Content Writing, Project Work, Coding Help'\n",
      " 'Learning new topics, Doubt Solving, Project Work'\n",
      " 'Doubt Solving, Learning new topics, Project Work'\n",
      " 'MCQ Practice, Resume Writing, Project Work'\n",
      " 'Content Writing, Project Work, Resume Writing'\n",
      " 'Coding Help, MCQ Practice, Doubt Solving'\n",
      " 'Exam Preparation, Project Work, Content Writing'\n",
      " 'MCQ Practice, Assignments'\n",
      " 'Learning new topics, Assignments, Exam Preparation'\n",
      " 'Learning new topics, Exam Preparation, Doubt Solving'\n",
      " 'MCQ Practice, Learning new topics, Exam Preparation'\n",
      " 'MCQ Practice, Resume Writing, Content Writing'\n",
      " 'Project Work, Learning new topics, Content Writing'\n",
      " 'Project Work, Exam Preparation, Doubt Solving'\n",
      " 'Assignments, Project Work, Resume Writing'\n",
      " 'MCQ Practice, Doubt Solving, Coding Help'\n",
      " 'Content Writing, Learning new topics, MCQ Practice'\n",
      " 'MCQ Practice, Project Work, Coding Help'\n",
      " 'Doubt Solving, MCQ Practice, Project Work'\n",
      " 'Content Writing, MCQ Practice, Doubt Solving'\n",
      " 'Assignments, Project Work, Content Writing'\n",
      " 'Content Writing, Project Work, Doubt Solving'\n",
      " 'MCQ Practice, Content Writing, Coding Help'\n",
      " 'Resume Writing, Exam Preparation, Coding Help'\n",
      " 'Content Writing, Assignments, Doubt Solving'\n",
      " 'Assignments, Coding Help, MCQ Practice'\n",
      " 'Doubt Solving, Coding Help, Project Work'\n",
      " 'MCQ Practice, Resume Writing, Doubt Solving'\n",
      " 'Assignments, Resume Writing, Learning new topics'\n",
      " 'Resume Writing, Exam Preparation'\n",
      " 'MCQ Practice, Content Writing, Doubt Solving'\n",
      " 'Coding Help, Resume Writing, Learning new topics'\n",
      " 'Content Writing, Assignments, Resume Writing'\n",
      " 'Resume Writing, MCQ Practice, Content Writing'\n",
      " 'MCQ Practice, Project Work, Learning new topics'\n",
      " 'Assignments, Coding Help, Content Writing'\n",
      " 'MCQ Practice, Doubt Solving, Content Writing'\n",
      " 'Coding Help, Exam Preparation, Resume Writing'\n",
      " 'MCQ Practice, Exam Preparation, Doubt Solving'\n",
      " 'MCQ Practice, Content Writing, Assignments'\n",
      " 'Project Work, MCQ Practice, Exam Preparation'\n",
      " 'Exam Preparation, Project Work'\n",
      " 'Assignments, Exam Preparation, MCQ Practice'\n",
      " 'Exam Preparation, Assignments'\n",
      " 'Coding Help, MCQ Practice, Exam Preparation'\n",
      " 'Coding Help, Doubt Solving, Learning new topics'\n",
      " 'Doubt Solving, Assignments, Project Work'\n",
      " 'Content Writing, Resume Writing, MCQ Practice'\n",
      " 'Exam Preparation, Doubt Solving, Content Writing'\n",
      " 'MCQ Practice, Coding Help, Doubt Solving'\n",
      " 'Content Writing, Exam Preparation'\n",
      " 'Doubt Solving, Exam Preparation, MCQ Practice'\n",
      " 'Coding Help, Project Work, Assignments'\n",
      " 'Assignments, Doubt Solving, MCQ Practice'\n",
      " 'Learning new topics, Project Work, Exam Preparation'\n",
      " 'Resume Writing, MCQ Practice, Exam Preparation'\n",
      " 'Project Work, Learning new topics, Exam Preparation'\n",
      " 'Resume Writing, Assignments, Exam Preparation'\n",
      " 'Learning new topics, Coding Help, Assignments'\n",
      " 'Resume Writing, Project Work, Content Writing'\n",
      " 'Exam Preparation, Content Writing, Learning new topics'\n",
      " 'Assignments, MCQ Practice, Project Work'\n",
      " 'Exam Preparation, Coding Help, Project Work'\n",
      " 'MCQ Practice, Assignments, Coding Help'\n",
      " 'Resume Writing, Coding Help, Content Writing'\n",
      " 'Exam Preparation, Doubt Solving, Resume Writing'\n",
      " 'MCQ Practice, Coding Help, Project Work'\n",
      " 'Coding Help, Resume Writing, Assignments'\n",
      " 'Coding Help, Learning new topics, Exam Preparation'\n",
      " 'Assignments, Resume Writing, Coding Help'\n",
      " 'Exam Preparation, Content Writing'\n",
      " 'Exam Preparation, Learning new topics, Doubt Solving'\n",
      " 'Resume Writing, Coding Help, MCQ Practice'\n",
      " 'Coding Help, Learning new topics, Assignments'\n",
      " 'Exam Preparation, Project Work, Resume Writing'\n",
      " 'Resume Writing, Learning new topics, Coding Help'\n",
      " 'Resume Writing, Content Writing, Coding Help'\n",
      " 'Project Work, Resume Writing, Assignments'\n",
      " 'Doubt Solving, Assignments, Coding Help'\n",
      " 'Project Work, Doubt Solving, Exam Preparation'\n",
      " 'Exam Preparation, MCQ Practice, Doubt Solving'\n",
      " 'Project Work, Content Writing, Doubt Solving'\n",
      " 'Coding Help, Resume Writing, MCQ Practice'\n",
      " 'Learning new topics, Project Work, Coding Help'\n",
      " 'Coding Help, Exam Preparation, Project Work'\n",
      " 'Assignments, MCQ Practice, Resume Writing'\n",
      " 'Learning new topics, Exam Preparation'\n",
      " 'Coding Help, Content Writing, Resume Writing'\n",
      " 'Content Writing, MCQ Practice, Exam Preparation'\n",
      " 'Learning new topics, Assignments, Coding Help'\n",
      " 'Learning new topics, Project Work, Content Writing'\n",
      " 'Resume Writing, MCQ Practice, Doubt Solving'\n",
      " 'Resume Writing, MCQ Practice, Project Work'\n",
      " 'Content Writing, Learning new topics, Assignments'\n",
      " 'Project Work, Coding Help, Learning new topics'\n",
      " 'Doubt Solving, Coding Help, Assignments'\n",
      " 'Coding Help, Assignments, Project Work'\n",
      " 'Project Work, MCQ Practice, Learning new topics'\n",
      " 'Resume Writing, Content Writing'\n",
      " 'Learning new topics, Resume Writing, Doubt Solving'\n",
      " 'Doubt Solving, Learning new topics, MCQ Practice'\n",
      " 'Learning new topics, Doubt Solving, Assignments'\n",
      " 'Project Work, Resume Writing, Learning new topics'\n",
      " 'Coding Help, Project Work, Exam Preparation'\n",
      " 'Resume Writing, Assignments, Content Writing'\n",
      " 'Content Writing, Project Work, Assignments'\n",
      " 'Doubt Solving, Assignments, Resume Writing'\n",
      " 'Assignments, Content Writing, Project Work'\n",
      " 'Project Work, Doubt Solving, Coding Help'\n",
      " 'Assignments, MCQ Practice, Doubt Solving'\n",
      " 'Project Work, Doubt Solving, MCQ Practice'\n",
      " 'Assignments, Coding Help, Exam Preparation'\n",
      " 'Doubt Solving, Exam Preparation, Content Writing'\n",
      " 'Content Writing, Resume Writing, Exam Preparation'\n",
      " 'Coding Help, Learning new topics, Content Writing'\n",
      " 'Exam Preparation, Project Work, Assignments'\n",
      " 'Doubt Solving, Content Writing, Coding Help'\n",
      " 'Content Writing, MCQ Practice, Resume Writing'\n",
      " 'Resume Writing, Exam Preparation, Learning new topics'\n",
      " 'Doubt Solving, Project Work, Resume Writing'\n",
      " 'Learning new topics, Coding Help, Resume Writing'\n",
      " 'Doubt Solving, Learning new topics, Coding Help'\n",
      " 'Resume Writing, Content Writing, Project Work'\n",
      " 'Resume Writing, Exam Preparation, Project Work'\n",
      " 'MCQ Practice, Assignments, Resume Writing'\n",
      " 'Resume Writing, Coding Help, Learning new topics'\n",
      " 'MCQ Practice, Assignments, Project Work'\n",
      " 'Coding Help, Doubt Solving, MCQ Practice'\n",
      " 'MCQ Practice, Resume Writing, Learning new topics'\n",
      " 'Learning new topics, Resume Writing, Assignments'\n",
      " 'Assignments, MCQ Practice, Exam Preparation'\n",
      " 'Assignments, Exam Preparation, Content Writing'\n",
      " 'MCQ Practice, Exam Preparation, Learning new topics'\n",
      " 'Project Work, Doubt Solving, Content Writing'\n",
      " 'Coding Help, Project Work, Content Writing'\n",
      " 'Project Work, MCQ Practice, Doubt Solving'\n",
      " 'Learning new topics, Resume Writing, Coding Help'\n",
      " 'Exam Preparation, Project Work, Doubt Solving']\n",
      "--------------------------------------------------\n",
      "\n",
      "\n",
      "Trust_in_AI_Tools\n",
      "[2 3 5 1 4]\n",
      "--------------------------------------------------\n",
      "\n",
      "\n",
      "Impact_on_Grades\n",
      "[ 2 -3  0  3 -2 -1  1 -4  5  4 -5]\n",
      "--------------------------------------------------\n",
      "\n",
      "\n",
      "Do_Professors_Allow_Use\n",
      "['No' 'Yes']\n",
      "--------------------------------------------------\n",
      "\n",
      "\n",
      "Preferred_AI_Tool\n",
      "['Copilot' 'Other' 'Gemini' 'ChatGPT' 'Bard' 'Claude']\n",
      "--------------------------------------------------\n",
      "\n",
      "\n",
      "Awareness_Level\n",
      "[ 9  6  1  5  8  7  2  3 10  4]\n",
      "--------------------------------------------------\n",
      "\n",
      "\n",
      "Willing_to_Pay_for_Access\n",
      "['Yes' 'No']\n",
      "--------------------------------------------------\n",
      "\n",
      "\n",
      "State\n",
      "['Uttar pradesh' 'Chhattisgarh' 'Uttarakhand' 'Delhi ncr' 'Punjab'\n",
      " 'Chandigarh' 'Puducherry' 'Rajasthan' 'Meghalaya' 'Jharkhand'\n",
      " 'Maharashtra' 'Tamil nadu' 'Manipur' 'Arunachal pradesh' 'Telangana'\n",
      " 'Orissa' 'Bihar' 'Madhya pradesh' 'Himachal pradesh' 'Kerala' 'Gujarat'\n",
      " 'Assam' 'Jammu' 'Nagaland' 'Karnataka' 'Haryana' 'West bengal'\n",
      " 'Andhra pradesh' 'Goa' 'Tripura' 'Sikkim' 'Mizoram' 'Andaman' 'Dadra' nan]\n",
      "--------------------------------------------------\n",
      "\n",
      "\n",
      "Device_Used\n",
      "['Mobile' 'Laptop' 'Tablet']\n",
      "--------------------------------------------------\n",
      "\n",
      "\n",
      "Internet_Access\n",
      "['Poor' 'High' 'Medium']\n",
      "--------------------------------------------------\n",
      "\n",
      "\n"
     ]
    }
   ],
   "source": [
    "for x in df:\n",
    "    print(x)\n",
    "    print(df[x].unique())\n",
    "    print(50*'-')\n",
    "    print('\\n')"
   ]
  },
  {
   "cell_type": "code",
   "execution_count": 11,
   "id": "7b691fb0-4573-4466-8097-ed0cbf2898ec",
   "metadata": {},
   "outputs": [
    {
     "data": {
      "text/plain": [
       "np.int64(0)"
      ]
     },
     "execution_count": 11,
     "metadata": {},
     "output_type": "execute_result"
    }
   ],
   "source": [
    "df.duplicated().sum()"
   ]
  },
  {
   "cell_type": "code",
   "execution_count": 12,
   "id": "9162bb81-093e-4528-b26e-590a02c5fc98",
   "metadata": {},
   "outputs": [
    {
     "data": {
      "text/html": [
       "<div>\n",
       "<style scoped>\n",
       "    .dataframe tbody tr th:only-of-type {\n",
       "        vertical-align: middle;\n",
       "    }\n",
       "\n",
       "    .dataframe tbody tr th {\n",
       "        vertical-align: top;\n",
       "    }\n",
       "\n",
       "    .dataframe thead th {\n",
       "        text-align: right;\n",
       "    }\n",
       "</style>\n",
       "<table border=\"1\" class=\"dataframe\">\n",
       "  <thead>\n",
       "    <tr style=\"text-align: right;\">\n",
       "      <th></th>\n",
       "      <th>0</th>\n",
       "    </tr>\n",
       "  </thead>\n",
       "  <tbody>\n",
       "    <tr>\n",
       "      <th>Student_Name</th>\n",
       "      <td>object</td>\n",
       "    </tr>\n",
       "    <tr>\n",
       "      <th>College_Name</th>\n",
       "      <td>object</td>\n",
       "    </tr>\n",
       "    <tr>\n",
       "      <th>Stream</th>\n",
       "      <td>object</td>\n",
       "    </tr>\n",
       "    <tr>\n",
       "      <th>Year_of_Study</th>\n",
       "      <td>int64</td>\n",
       "    </tr>\n",
       "    <tr>\n",
       "      <th>AI_Tools_Used</th>\n",
       "      <td>object</td>\n",
       "    </tr>\n",
       "    <tr>\n",
       "      <th>Daily_Usage_Hours</th>\n",
       "      <td>float64</td>\n",
       "    </tr>\n",
       "    <tr>\n",
       "      <th>Use_Cases</th>\n",
       "      <td>object</td>\n",
       "    </tr>\n",
       "    <tr>\n",
       "      <th>Trust_in_AI_Tools</th>\n",
       "      <td>int64</td>\n",
       "    </tr>\n",
       "    <tr>\n",
       "      <th>Impact_on_Grades</th>\n",
       "      <td>int64</td>\n",
       "    </tr>\n",
       "    <tr>\n",
       "      <th>Do_Professors_Allow_Use</th>\n",
       "      <td>object</td>\n",
       "    </tr>\n",
       "    <tr>\n",
       "      <th>Preferred_AI_Tool</th>\n",
       "      <td>object</td>\n",
       "    </tr>\n",
       "    <tr>\n",
       "      <th>Awareness_Level</th>\n",
       "      <td>int64</td>\n",
       "    </tr>\n",
       "    <tr>\n",
       "      <th>Willing_to_Pay_for_Access</th>\n",
       "      <td>object</td>\n",
       "    </tr>\n",
       "    <tr>\n",
       "      <th>State</th>\n",
       "      <td>object</td>\n",
       "    </tr>\n",
       "    <tr>\n",
       "      <th>Device_Used</th>\n",
       "      <td>object</td>\n",
       "    </tr>\n",
       "    <tr>\n",
       "      <th>Internet_Access</th>\n",
       "      <td>object</td>\n",
       "    </tr>\n",
       "  </tbody>\n",
       "</table>\n",
       "</div>"
      ],
      "text/plain": [
       "                                 0\n",
       "Student_Name                object\n",
       "College_Name                object\n",
       "Stream                      object\n",
       "Year_of_Study                int64\n",
       "AI_Tools_Used               object\n",
       "Daily_Usage_Hours          float64\n",
       "Use_Cases                   object\n",
       "Trust_in_AI_Tools            int64\n",
       "Impact_on_Grades             int64\n",
       "Do_Professors_Allow_Use     object\n",
       "Preferred_AI_Tool           object\n",
       "Awareness_Level              int64\n",
       "Willing_to_Pay_for_Access   object\n",
       "State                       object\n",
       "Device_Used                 object\n",
       "Internet_Access             object"
      ]
     },
     "execution_count": 12,
     "metadata": {},
     "output_type": "execute_result"
    }
   ],
   "source": [
    "pd.DataFrame(df.dtypes)"
   ]
  },
  {
   "cell_type": "code",
   "execution_count": 13,
   "id": "b399829e-5a59-48ea-b759-ed0a81529393",
   "metadata": {},
   "outputs": [
    {
     "data": {
      "text/plain": [
       "Student_Name                    0\n",
       "College_Name                    0\n",
       "Stream                          0\n",
       "Year_of_Study                   0\n",
       "AI_Tools_Used                   0\n",
       "Daily_Usage_Hours               0\n",
       "Use_Cases                       0\n",
       "Trust_in_AI_Tools               0\n",
       "Impact_on_Grades                0\n",
       "Do_Professors_Allow_Use         0\n",
       "Preferred_AI_Tool               0\n",
       "Awareness_Level                 0\n",
       "Willing_to_Pay_for_Access       0\n",
       "State                        1614\n",
       "Device_Used                     0\n",
       "Internet_Access                 0\n",
       "dtype: int64"
      ]
     },
     "execution_count": 13,
     "metadata": {},
     "output_type": "execute_result"
    }
   ],
   "source": [
    "df.isnull().sum()"
   ]
  },
  {
   "cell_type": "code",
   "execution_count": 14,
   "id": "95bf8aae-f598-4bda-8995-a79d6cc6125a",
   "metadata": {},
   "outputs": [],
   "source": [
    "df['State']=df['State'].fillna(df['State'].mode()[0])"
   ]
  },
  {
   "cell_type": "code",
   "execution_count": 15,
   "id": "72575e94-7d29-498a-ad6f-6efac2c01a5a",
   "metadata": {},
   "outputs": [
    {
     "data": {
      "text/plain": [
       "Student_Name                 0\n",
       "College_Name                 0\n",
       "Stream                       0\n",
       "Year_of_Study                0\n",
       "AI_Tools_Used                0\n",
       "Daily_Usage_Hours            0\n",
       "Use_Cases                    0\n",
       "Trust_in_AI_Tools            0\n",
       "Impact_on_Grades             0\n",
       "Do_Professors_Allow_Use      0\n",
       "Preferred_AI_Tool            0\n",
       "Awareness_Level              0\n",
       "Willing_to_Pay_for_Access    0\n",
       "State                        0\n",
       "Device_Used                  0\n",
       "Internet_Access              0\n",
       "dtype: int64"
      ]
     },
     "execution_count": 15,
     "metadata": {},
     "output_type": "execute_result"
    }
   ],
   "source": [
    "df.isnull().sum()"
   ]
  },
  {
   "cell_type": "code",
   "execution_count": 16,
   "id": "33c875d9-0784-4a05-bb63-a34c5cfecf3c",
   "metadata": {},
   "outputs": [],
   "source": [
    "df.columns = df.columns.str.strip()"
   ]
  },
  {
   "cell_type": "code",
   "execution_count": 17,
   "id": "2cb31cb1-0a9a-48d9-aad0-15f6b83ff1d2",
   "metadata": {},
   "outputs": [
    {
     "data": {
      "text/plain": [
       "Index(['Student_Name', 'College_Name', 'Stream', 'Year_of_Study',\n",
       "       'AI_Tools_Used', 'Daily_Usage_Hours', 'Use_Cases', 'Trust_in_AI_Tools',\n",
       "       'Impact_on_Grades', 'Do_Professors_Allow_Use', 'Preferred_AI_Tool',\n",
       "       'Awareness_Level', 'Willing_to_Pay_for_Access', 'State', 'Device_Used',\n",
       "       'Internet_Access'],\n",
       "      dtype='object')"
      ]
     },
     "execution_count": 17,
     "metadata": {},
     "output_type": "execute_result"
    }
   ],
   "source": [
    "df.columns"
   ]
  },
  {
   "cell_type": "code",
   "execution_count": 18,
   "id": "d1d188b8-1260-4b7e-98c0-28643f180282",
   "metadata": {},
   "outputs": [],
   "source": [
    "# Count how many tools each student used\n",
    "df['num_tools'] = df['AI_Tools_Used'].apply(lambda x: len(x.split(',')) if pd.notna(x) else 0)"
   ]
  },
  {
   "cell_type": "code",
   "execution_count": 19,
   "id": "749eb4f8-44b7-4028-9f91-0cf5d3f50447",
   "metadata": {},
   "outputs": [
    {
     "data": {
      "text/html": [
       "<div>\n",
       "<style scoped>\n",
       "    .dataframe tbody tr th:only-of-type {\n",
       "        vertical-align: middle;\n",
       "    }\n",
       "\n",
       "    .dataframe tbody tr th {\n",
       "        vertical-align: top;\n",
       "    }\n",
       "\n",
       "    .dataframe thead th {\n",
       "        text-align: right;\n",
       "    }\n",
       "</style>\n",
       "<table border=\"1\" class=\"dataframe\">\n",
       "  <thead>\n",
       "    <tr style=\"text-align: right;\">\n",
       "      <th></th>\n",
       "      <th>Student_Name</th>\n",
       "      <th>College_Name</th>\n",
       "      <th>Stream</th>\n",
       "      <th>Year_of_Study</th>\n",
       "      <th>AI_Tools_Used</th>\n",
       "      <th>Daily_Usage_Hours</th>\n",
       "      <th>Use_Cases</th>\n",
       "      <th>Trust_in_AI_Tools</th>\n",
       "      <th>Impact_on_Grades</th>\n",
       "      <th>Do_Professors_Allow_Use</th>\n",
       "      <th>Preferred_AI_Tool</th>\n",
       "      <th>Awareness_Level</th>\n",
       "      <th>Willing_to_Pay_for_Access</th>\n",
       "      <th>State</th>\n",
       "      <th>Device_Used</th>\n",
       "      <th>Internet_Access</th>\n",
       "      <th>num_tools</th>\n",
       "    </tr>\n",
       "  </thead>\n",
       "  <tbody>\n",
       "    <tr>\n",
       "      <th>0</th>\n",
       "      <td>Aarav</td>\n",
       "      <td>Indian Institute of Information Technology</td>\n",
       "      <td>Engineering</td>\n",
       "      <td>4</td>\n",
       "      <td>Gemini</td>\n",
       "      <td>0.9</td>\n",
       "      <td>Assignments, Coding Help</td>\n",
       "      <td>2</td>\n",
       "      <td>2</td>\n",
       "      <td>No</td>\n",
       "      <td>Copilot</td>\n",
       "      <td>9</td>\n",
       "      <td>Yes</td>\n",
       "      <td>Uttar pradesh</td>\n",
       "      <td>Mobile</td>\n",
       "      <td>Poor</td>\n",
       "      <td>1</td>\n",
       "    </tr>\n",
       "    <tr>\n",
       "      <th>1</th>\n",
       "      <td>Vivaan</td>\n",
       "      <td>Government Ram Bhajan Rai NES College, Jashpur</td>\n",
       "      <td>Commerce</td>\n",
       "      <td>2</td>\n",
       "      <td>ChatGPT</td>\n",
       "      <td>3.4</td>\n",
       "      <td>Learning new topics</td>\n",
       "      <td>3</td>\n",
       "      <td>-3</td>\n",
       "      <td>Yes</td>\n",
       "      <td>Other</td>\n",
       "      <td>6</td>\n",
       "      <td>No</td>\n",
       "      <td>Chhattisgarh</td>\n",
       "      <td>Laptop</td>\n",
       "      <td>Poor</td>\n",
       "      <td>1</td>\n",
       "    </tr>\n",
       "    <tr>\n",
       "      <th>2</th>\n",
       "      <td>Aditya</td>\n",
       "      <td>Dolphin PG Institute of BioMedical &amp; Natural</td>\n",
       "      <td>Science</td>\n",
       "      <td>2</td>\n",
       "      <td>Copilot</td>\n",
       "      <td>3.6</td>\n",
       "      <td>MCQ Practice, Projects</td>\n",
       "      <td>5</td>\n",
       "      <td>0</td>\n",
       "      <td>No</td>\n",
       "      <td>Gemini</td>\n",
       "      <td>1</td>\n",
       "      <td>No</td>\n",
       "      <td>Uttarakhand</td>\n",
       "      <td>Tablet</td>\n",
       "      <td>Poor</td>\n",
       "      <td>1</td>\n",
       "    </tr>\n",
       "    <tr>\n",
       "      <th>3</th>\n",
       "      <td>Vihaan</td>\n",
       "      <td>Shaheed Rajguru College of Applied Sciences for</td>\n",
       "      <td>Arts</td>\n",
       "      <td>2</td>\n",
       "      <td>Copilot</td>\n",
       "      <td>2.9</td>\n",
       "      <td>Content Writing</td>\n",
       "      <td>5</td>\n",
       "      <td>2</td>\n",
       "      <td>Yes</td>\n",
       "      <td>Gemini</td>\n",
       "      <td>5</td>\n",
       "      <td>No</td>\n",
       "      <td>Delhi ncr</td>\n",
       "      <td>Laptop</td>\n",
       "      <td>High</td>\n",
       "      <td>1</td>\n",
       "    </tr>\n",
       "    <tr>\n",
       "      <th>4</th>\n",
       "      <td>Arjun</td>\n",
       "      <td>Roorkee College of Engineering</td>\n",
       "      <td>Science</td>\n",
       "      <td>1</td>\n",
       "      <td>Gemini</td>\n",
       "      <td>0.9</td>\n",
       "      <td>Doubt Solving, Resume Writing</td>\n",
       "      <td>1</td>\n",
       "      <td>3</td>\n",
       "      <td>Yes</td>\n",
       "      <td>Other</td>\n",
       "      <td>8</td>\n",
       "      <td>Yes</td>\n",
       "      <td>Uttarakhand</td>\n",
       "      <td>Laptop</td>\n",
       "      <td>Medium</td>\n",
       "      <td>1</td>\n",
       "    </tr>\n",
       "  </tbody>\n",
       "</table>\n",
       "</div>"
      ],
      "text/plain": [
       "  Student_Name                                      College_Name       Stream  \\\n",
       "0        Aarav       Indian Institute of Information Technology   Engineering   \n",
       "1       Vivaan   Government Ram Bhajan Rai NES College, Jashpur      Commerce   \n",
       "2       Aditya     Dolphin PG Institute of BioMedical & Natural       Science   \n",
       "3       Vihaan  Shaheed Rajguru College of Applied Sciences for          Arts   \n",
       "4        Arjun                   Roorkee College of Engineering       Science   \n",
       "\n",
       "   Year_of_Study AI_Tools_Used  Daily_Usage_Hours  \\\n",
       "0              4        Gemini                0.9   \n",
       "1              2       ChatGPT                3.4   \n",
       "2              2       Copilot                3.6   \n",
       "3              2       Copilot                2.9   \n",
       "4              1        Gemini                0.9   \n",
       "\n",
       "                       Use_Cases  Trust_in_AI_Tools  Impact_on_Grades  \\\n",
       "0       Assignments, Coding Help                  2                 2   \n",
       "1            Learning new topics                  3                -3   \n",
       "2         MCQ Practice, Projects                  5                 0   \n",
       "3                Content Writing                  5                 2   \n",
       "4  Doubt Solving, Resume Writing                  1                 3   \n",
       "\n",
       "  Do_Professors_Allow_Use Preferred_AI_Tool  Awareness_Level  \\\n",
       "0                      No           Copilot                9   \n",
       "1                     Yes             Other                6   \n",
       "2                      No            Gemini                1   \n",
       "3                     Yes            Gemini                5   \n",
       "4                     Yes             Other                8   \n",
       "\n",
       "  Willing_to_Pay_for_Access          State Device_Used Internet_Access  \\\n",
       "0                       Yes  Uttar pradesh      Mobile            Poor   \n",
       "1                        No   Chhattisgarh      Laptop            Poor   \n",
       "2                        No    Uttarakhand      Tablet            Poor   \n",
       "3                        No      Delhi ncr      Laptop            High   \n",
       "4                       Yes    Uttarakhand      Laptop          Medium   \n",
       "\n",
       "   num_tools  \n",
       "0          1  \n",
       "1          1  \n",
       "2          1  \n",
       "3          1  \n",
       "4          1  "
      ]
     },
     "execution_count": 19,
     "metadata": {},
     "output_type": "execute_result"
    }
   ],
   "source": [
    "df.head()"
   ]
  },
  {
   "cell_type": "code",
   "execution_count": 20,
   "id": "4a43d83c-9458-4119-a5df-c6b5ed67d58d",
   "metadata": {},
   "outputs": [
    {
     "data": {
      "text/plain": [
       "Index(['Year_of_Study', 'Daily_Usage_Hours', 'Trust_in_AI_Tools',\n",
       "       'Impact_on_Grades', 'Awareness_Level', 'num_tools'],\n",
       "      dtype='object')"
      ]
     },
     "execution_count": 20,
     "metadata": {},
     "output_type": "execute_result"
    }
   ],
   "source": [
    "number_types=df.select_dtypes('number')\n",
    "number_types.columns"
   ]
  },
  {
   "cell_type": "code",
   "execution_count": 21,
   "id": "98dcc8da-65e8-47cc-aa94-d7f24de1e6df",
   "metadata": {},
   "outputs": [
    {
     "data": {
      "image/png": "[encoded data removed]",
      "text/plain": [
       "<Figure size 640x480 with 5 Axes>"
      ]
     },
     "metadata": {},
     "output_type": "display_data"
    }
   ],
   "source": [
    "for i in range(1, 6):  \n",
    "    plt.subplot(3, 3, i) \n",
    "    plt.boxplot(df[['Year_of_Study', 'Daily_Usage_Hours', 'Trust_in_AI_Tools',\n",
    "       'Impact_on_Grades', 'Awareness_Level']].iloc[:, i-1])\n",
    "    plt.title(['Year_of_Study', 'Daily_Usage_Hours', 'Trust_in_AI_Tools',\n",
    "       'Impact_on_Grades', 'Awareness_Level'][i-1])\n",
    "\n",
    "\n",
    "plt.tight_layout()\n",
    "plt.show()\n"
   ]
  },
  {
   "cell_type": "code",
   "execution_count": 22,
   "id": "42eda344-8ddd-4165-8c53-4dae51c3dd95",
   "metadata": {},
   "outputs": [
    {
     "data": {
      "text/plain": [
       "Index(['Student_Name', 'College_Name', 'Stream', 'Year_of_Study',\n",
       "       'AI_Tools_Used', 'Daily_Usage_Hours', 'Use_Cases', 'Trust_in_AI_Tools',\n",
       "       'Impact_on_Grades', 'Do_Professors_Allow_Use', 'Preferred_AI_Tool',\n",
       "       'Awareness_Level', 'Willing_to_Pay_for_Access', 'State', 'Device_Used',\n",
       "       'Internet_Access', 'num_tools'],\n",
       "      dtype='object')"
      ]
     },
     "execution_count": 22,
     "metadata": {},
     "output_type": "execute_result"
    }
   ],
   "source": [
    "df.columns"
   ]
  },
  {
   "cell_type": "markdown",
   "id": "49cb7363-b2bc-4ae3-b27e-6785fdb56489",
   "metadata": {},
   "source": [
    "# ANALYSIS"
   ]
  },
  {
   "cell_type": "markdown",
   "id": "025fe476-4a89-4f5f-967f-2dd2aef66e75",
   "metadata": {},
   "source": [
    "\n",
    "## 1. Distribution of students by Stream\n"
   ]
  },
  {
   "cell_type": "code",
   "execution_count": 23,
   "id": "6ebe41f1-cec8-4bac-b853-835af81b1950",
   "metadata": {},
   "outputs": [
    {
     "name": "stdout",
     "output_type": "stream",
     "text": [
      "\n",
      "Students percentage per Stream:\n",
      " Stream\n",
      "Science             16.408412\n",
      "Engineering         13.973437\n",
      "Arts                11.427781\n",
      "Management          10.514665\n",
      "Commerce            10.071942\n",
      "Hotel-management     8.799115\n",
      "Medical              7.775318\n",
      "Agriculture          7.249585\n",
      "Pharmacy             6.972883\n",
      "Law                  6.806862\n",
      "Name: proportion, dtype: float64\n"
     ]
    }
   ],
   "source": [
    "stream_counts = df['Stream'].value_counts(normalize=True)*100\n",
    "print(\"\\nStudents percentage per Stream:\\n\",stream_counts)\n",
    "\n"
   ]
  },
  {
   "cell_type": "markdown",
   "id": "2e0d03c9-d66d-4d73-8158-b2b303f75fcc",
   "metadata": {},
   "source": [
    "- **The highest proportion of students belong to Science (16.4%) and Engineering (14%) streams, followed by Arts (11.4%) and Management (10.5%).**\n",
    "\n",
    "- **This suggests that students from science and technical backgrounds are more likely to engage with AI tools, possibly due to curriculum relevance or digital familiarity.**"
   ]
  },
  {
   "cell_type": "markdown",
   "id": "b9c2d621-4a6e-4c95-9bdd-012ab55c7069",
   "metadata": {},
   "source": [
    "## 2. Average Daily Usage Hours grouped by Stream\n"
   ]
  },
  {
   "cell_type": "code",
   "execution_count": 24,
   "id": "0d72e77c-f6cb-4c26-bd94-1d6aced6f0f5",
   "metadata": {},
   "outputs": [
    {
     "name": "stdout",
     "output_type": "stream",
     "text": [
      "\n",
      "Average Daily Usage Hours by Stream:\n",
      " Stream\n",
      "Pharmacy            2.744048\n",
      "Commerce            2.733242\n",
      "Arts                2.699516\n",
      "Science             2.661889\n",
      "Law                 2.658130\n",
      "Agriculture         2.651908\n",
      "Management          2.456316\n",
      "Medical             2.438790\n",
      "Hotel-management    2.419811\n",
      "Engineering         2.245545\n",
      "Name: Daily_Usage_Hours, dtype: float64\n"
     ]
    }
   ],
   "source": [
    "avg_usage_by_stream = df.groupby('Stream')['Daily_Usage_Hours'].mean().sort_values(ascending=False)\n",
    "print(\"\\nAverage Daily Usage Hours by Stream:\\n\",avg_usage_by_stream)\n",
    "\n"
   ]
  },
  {
   "cell_type": "markdown",
   "id": "bcee1ae6-b033-4c3c-80d4-1c884c5b2343",
   "metadata": {},
   "source": [
    "- **Pharmacy, Commerce, and Arts students report the highest average daily AI usage (around 2.7 hours).**\n",
    "\n",
    "- **Engineering students have the lowest average usage at 2.25 hours, despite being from a technical background.**\n",
    "\n",
    "- **This may indicate that non-technical students use AI tools more frequently for tasks like writing, comprehension, or content creation, while technical students use them more selectively or efficiently.**"
   ]
  },
  {
   "cell_type": "markdown",
   "id": "29d6d546-f9b0-4005-9f36-919c4942ab81",
   "metadata": {},
   "source": [
    "## 3. Top 3 Preferred AI Tools"
   ]
  },
  {
   "cell_type": "code",
   "execution_count": 25,
   "id": "86b191e8-8aae-4ed7-9507-b8145bbd3c94",
   "metadata": {},
   "outputs": [
    {
     "name": "stdout",
     "output_type": "stream",
     "text": [
      "\n",
      "Top 3 Preferred AI Tools:\n",
      " Preferred_AI_Tool\n",
      "ChatGPT    859\n",
      "Gemini     854\n",
      "Copilot    836\n",
      "Name: count, dtype: int64\n"
     ]
    }
   ],
   "source": [
    "top_tools = df['Preferred_AI_Tool'].value_counts().head(3)\n",
    "print(\"\\nTop 3 Preferred AI Tools:\\n\", top_tools)\n"
   ]
  },
  {
   "cell_type": "markdown",
   "id": "74f98312-78cc-45ff-b088-81a4f1c1474a",
   "metadata": {},
   "source": [
    "- **ChatGPT (859), Gemini (854), and Copilot (836) are the most preferred AI tools among Indian college students in 2025.**\n",
    "\n",
    "- **The usage numbers are very close, indicating no single dominant tool but rather a competitive landscape of AI preferences.**\n",
    "\n",
    "- **This suggests students are experimenting with multiple platforms, likely based on tool features, user experience, or academic needs.**"
   ]
  },
  {
   "cell_type": "markdown",
   "id": "96e590da-c635-4f8f-b417-12e81b50c7e5",
   "metadata": {},
   "source": [
    "## 4. Daily Usage Hours vs Impact on Grades"
   ]
  },
  {
   "cell_type": "code",
   "execution_count": 26,
   "id": "cc37547a-5685-4a62-8738-269a301fd28a",
   "metadata": {},
   "outputs": [
    {
     "name": "stdout",
     "output_type": "stream",
     "text": [
      "\n",
      "Avg Usage Hours by Impact_on_Grades:\n",
      " Impact_on_Grades\n",
      "-5    2.819048\n",
      "-4    2.653636\n",
      "-3    2.469330\n",
      "-2    2.428764\n",
      "-1    2.467040\n",
      " 0    2.408602\n",
      " 1    2.713417\n",
      " 2    2.595029\n",
      " 3    2.640334\n",
      " 4    2.772043\n",
      " 5    2.943820\n",
      "Name: Daily_Usage_Hours, dtype: float64\n"
     ]
    }
   ],
   "source": [
    "usage_vs_grades = df.groupby('Impact_on_Grades')['Daily_Usage_Hours'].mean()\n",
    "print(\"\\nAvg Usage Hours by Impact_on_Grades:\\n\", usage_vs_grades)"
   ]
  },
  {
   "cell_type": "markdown",
   "id": "9782a133-6fd3-45dd-967c-20f2a4e22164",
   "metadata": {},
   "source": [
    "- **Students who said AI tools helped their grades the most (+5) used them for around 2.94 hours per day.**\n",
    "\n",
    "- **Students with average or no impact used them for about 2.4 to 2.7 hours per day.**\n",
    "\n",
    "- **Students who said AI tools harmed their grades (-5) also used them a lot — around 2.8 hours, showing that using AI more doesn't always mean better results.**"
   ]
  },
  {
   "cell_type": "markdown",
   "id": "d4ed91b5-e39e-424f-8d49-e87dc5628629",
   "metadata": {},
   "source": [
    "## 5. Trust in AI Tools\n",
    "\n"
   ]
  },
  {
   "cell_type": "code",
   "execution_count": 27,
   "id": "82226931-5da2-4549-a93a-87a699e4266e",
   "metadata": {
    "scrolled": true
   },
   "outputs": [
    {
     "name": "stdout",
     "output_type": "stream",
     "text": [
      "\n",
      "Trust in AI Tools:\n",
      " Trust_in_AI_Tools\n",
      "5    797\n",
      "2    750\n",
      "1    714\n",
      "3    685\n",
      "4    668\n",
      "Name: count, dtype: int64\n"
     ]
    }
   ],
   "source": [
    "trust_counts = df['Trust_in_AI_Tools'].value_counts()\n",
    "print(\"\\nTrust in AI Tools:\\n\", trust_counts)"
   ]
  },
  {
   "cell_type": "markdown",
   "id": "41d47597-cba9-4e37-a165-033d0f9bd4af",
   "metadata": {},
   "source": [
    "- **The majority of students rated their trust in AI tools as 5 (highest) — with 797 responses.**\n",
    "\n",
    "- **However, a notable number also selected lower trust levels, showing mixed confidence among students.**\n",
    "\n",
    "- **This suggests while many students rely heavily on AI, others may still question its accuracy or fairness.**\n",
    "\n"
   ]
  },
  {
   "cell_type": "markdown",
   "id": "c99e4d52-9738-4fc5-a048-772f1b977396",
   "metadata": {},
   "source": [
    " ## 6. Willing_to_Pay vs Preferred AI Tool"
   ]
  },
  {
   "cell_type": "code",
   "execution_count": 28,
   "id": "dd55eb18-b03b-4ae4-9539-61a0f443a7f4",
   "metadata": {},
   "outputs": [
    {
     "name": "stdout",
     "output_type": "stream",
     "text": [
      "\n",
      "Crosstab – Preferred AI Tool vs Willingness to Pay:\n",
      " Willing_to_Pay_for_Access   No  Yes\n",
      "Preferred_AI_Tool                  \n",
      "Bard                        72   79\n",
      "ChatGPT                    445  414\n",
      "Claude                      73   84\n",
      "Copilot                    408  428\n",
      "Gemini                     441  413\n",
      "Other                      372  385\n"
     ]
    }
   ],
   "source": [
    "willing_vs_tool = pd.crosstab(df['Preferred_AI_Tool'], df['Willing_to_Pay_for_Access'])\n",
    "print(\"\\nCrosstab – Preferred AI Tool vs Willingness to Pay:\\n\", willing_vs_tool)"
   ]
  },
  {
   "cell_type": "markdown",
   "id": "9af4d5c1-8b5c-4d4e-82c5-3feb404692ec",
   "metadata": {},
   "source": [
    "- **For most popular tools like ChatGPT, Gemini, and Copilot, the number of students willing to pay is almost equal to those not willing.**\n",
    "\n",
    "- **Tools like Claude and Bard also show a balanced response, with slightly more students saying yes to paying.**\n",
    "\n",
    "- **This indicates that while AI tools are widely used, students are divided on whether they’d pay for access, depending on the tool’s value.**"
   ]
  },
  {
   "cell_type": "markdown",
   "id": "0b99fddf-e838-472e-a2d1-8f09e67fb785",
   "metadata": {},
   "source": [
    "## 7. Impact on Grades vs Year of Study"
   ]
  },
  {
   "cell_type": "code",
   "execution_count": 29,
   "id": "90c37524-4b3e-4508-993b-39e63e4fe0c5",
   "metadata": {},
   "outputs": [
    {
     "name": "stdout",
     "output_type": "stream",
     "text": [
      "\n",
      "Impact_on_Grades by Year_of_Study:\n",
      " Impact_on_Grades  -5  -4   -3   -2   -1    0    1    2    3   4   5\n",
      "Year_of_Study                                                      \n",
      "1                 24  30   91  114  133   81  121  165  108  15  20\n",
      "2                 16  25  156  118   98  135  121  129  115  31  22\n",
      "3                 15  27  130  107   98  134  129   95  100  25  21\n",
      "4                 29  28   86  106  117  115  106  134   96  22  26\n"
     ]
    }
   ],
   "source": [
    "grades_by_year = pd.crosstab(df['Year_of_Study'], df['Impact_on_Grades'])\n",
    "print(\"\\nImpact_on_Grades by Year_of_Study:\\n\", grades_by_year)\n"
   ]
  },
  {
   "cell_type": "markdown",
   "id": "61e433cf-4e81-4f93-80a5-571c6165de6b",
   "metadata": {},
   "source": [
    "- **First-year students reported the most negative impacts, especially -2 to -3, possibly due to inexperience with AI tools.**\n",
    "\n",
    "- **Second- and third-year students showed more balanced responses, with both positive and negative impacts spread across.**\n",
    "\n",
    "- **Fourth-year students had a higher number of positive impacts, especially scores of +4 and +5, indicating better integration of AI use into academics over time.**"
   ]
  },
  {
   "cell_type": "markdown",
   "id": "599e4ebd-e65e-4558-b8e1-39ff82e68761",
   "metadata": {},
   "source": [
    "## 8. Device preference analysis"
   ]
  },
  {
   "cell_type": "code",
   "execution_count": 30,
   "id": "4e76b397-8bc5-4df0-a331-e8285f8f6f6d",
   "metadata": {},
   "outputs": [
    {
     "name": "stdout",
     "output_type": "stream",
     "text": [
      "\n",
      "Device Usage Distribution:\n",
      " Device_Used\n",
      "Laptop    1336\n",
      "Tablet    1192\n",
      "Mobile    1086\n",
      "Name: count, dtype: int64\n"
     ]
    }
   ],
   "source": [
    "device_counts = df['Device_Used'].value_counts()\n",
    "print(\"\\nDevice Usage Distribution:\\n\", device_counts)"
   ]
  },
  {
   "cell_type": "markdown",
   "id": "d89bb4b2-f6c7-40fd-9c62-e48aae417693",
   "metadata": {},
   "source": [
    "- **Laptops (1336 users) are the most used device for accessing AI tools.**\n",
    "\n",
    "- **Surprisingly, Tablet usage (1192) is slightly higher than Mobile (1086), indicating a strong preference for larger screens or multitasking capabilities.**\n",
    "\n",
    "- **This shows students prefer flexibility and functionality when using AI, likely for productivity-related tasks like research and assignments.**\n",
    "\n"
   ]
  },
  {
   "cell_type": "markdown",
   "id": "c1fb02a8-62fd-4f9e-b141-315323398cc4",
   "metadata": {},
   "source": [
    "## 9. State-wise distribution"
   ]
  },
  {
   "cell_type": "code",
   "execution_count": 31,
   "id": "817ab686-ecf0-4810-988e-21ab07c4db70",
   "metadata": {},
   "outputs": [
    {
     "name": "stdout",
     "output_type": "stream",
     "text": [
      "\n",
      "Top 10 States by Student Count:\n",
      " State\n",
      "Maharashtra       1720\n",
      "Uttar pradesh       96\n",
      "Rajasthan           94\n",
      "Punjab              93\n",
      "Andhra pradesh      90\n",
      "Karnataka           90\n",
      "Kerala              88\n",
      "Gujarat             85\n",
      "Tamil nadu          85\n",
      "Chhattisgarh        81\n",
      "Name: count, dtype: int64\n"
     ]
    }
   ],
   "source": [
    "state_counts = df['State'].value_counts().head(10)\n",
    "print(\"\\nTop 10 States by Student Count:\\n\", state_counts)\n"
   ]
  },
  {
   "cell_type": "markdown",
   "id": "ddfe05ca-fb92-42e4-b028-77bb39d5a5c6",
   "metadata": {},
   "source": [
    "- **Maharashtra has the highest number of student responses (1720) — significantly more than any other state.**\n",
    "\n",
    "- **The next most represented states are Uttar Pradesh (96), Rajasthan (94), and Punjab (93).**\n",
    "\n",
    "- **This suggests that AI tool adoption or survey reach is highest in Maharashtra, possibly due to better digital access or academic engagement.**\n",
    "\n"
   ]
  },
  {
   "cell_type": "markdown",
   "id": "fb2a4dc3-6af8-4332-a6aa-8ee099d803bb",
   "metadata": {},
   "source": [
    "## 10.Average Daily AI Usage Hours by Internet Access "
   ]
  },
  {
   "cell_type": "code",
   "execution_count": 32,
   "id": "3a989747-d01b-49c7-a78d-21c9bc7db232",
   "metadata": {},
   "outputs": [
    {
     "name": "stdout",
     "output_type": "stream",
     "text": [
      "\n",
      "⏱ Average Daily AI Usage Hours by Internet Access Type:\n",
      "\n",
      "Internet_Access\n",
      "High      2.54\n",
      "Medium    2.60\n",
      "Poor      2.53\n",
      "Name: Daily_Usage_Hours, dtype: float64\n"
     ]
    }
   ],
   "source": [
    "internet_usage = df.groupby('Internet_Access')['Daily_Usage_Hours'].mean().round(2)\n",
    "\n",
    "print(\"\\n⏱ Average Daily AI Usage Hours by Internet Access Type:\\n\")\n",
    "print(internet_usage)\n"
   ]
  },
  {
   "cell_type": "markdown",
   "id": "8f36845c-fc2a-4dfa-a4e1-717681d0db60",
   "metadata": {},
   "source": [
    "- **Students with medium internet access had the highest average AI usage (2.60 hours/day).**\n",
    "\n",
    "- **Those with high and poor access used AI tools slightly less — 2.54 and 2.53 hours, respectively.**\n",
    "\n",
    "- **This may suggest that students with moderate, consistent internet are more actively using AI, while extremes in quality (too poor or too fast) don’t strongly impact usage time.**\n",
    "\n"
   ]
  },
  {
   "cell_type": "markdown",
   "id": "195857c9-e153-4ecd-9706-4e396bb028b2",
   "metadata": {},
   "source": [
    "# VISUALIZATION"
   ]
  },
  {
   "cell_type": "markdown",
   "id": "067ca779-d689-4299-877f-dd1f95186be9",
   "metadata": {},
   "source": [
    "##  Daily Usage Hours vs Impact on Grades"
   ]
  },
  {
   "cell_type": "code",
   "execution_count": 33,
   "id": "d5b594b6-f946-41ea-8908-41ffd37214f0",
   "metadata": {},
   "outputs": [
    {
     "data": {
      "image/png": "[encoded data removed]",
      "text/plain": [
       "<Figure size 800x400 with 1 Axes>"
      ]
     },
     "metadata": {},
     "output_type": "display_data"
    }
   ],
   "source": [
    "plt.figure(figsize=(8,4))\n",
    "sns.boxplot(x='Impact_on_Grades', y='Daily_Usage_Hours', data=df, palette=\"magma\")\n",
    "plt.title('Daily Usage Hours vs Impact on Grades', fontsize=14)\n",
    "plt.xticks(rotation=45)\n",
    "plt.tight_layout()\n",
    "plt.show()\n"
   ]
  },
  {
   "cell_type": "markdown",
   "id": "1834d3d1-aab7-4cba-aa87-053a04fd0390",
   "metadata": {},
   "source": [
    "- **Students with higher AI usage report greater positive impact on their grades (4–5).**\n",
    "\n",
    "- **Even those with no or negative impact still use AI tools regularly.**\n",
    "\n",
    "- **The middle value (median) of usage increases with impact level.**\n",
    "\n",
    "- **Some low-impact students still use AI for 4–5 hours, showing mixed effectiveness.**\n",
    "\n"
   ]
  },
  {
   "cell_type": "markdown",
   "id": "52618162-958b-4dad-9fe1-3e18cb8de91f",
   "metadata": {},
   "source": [
    "## Willingness to Pay for Access"
   ]
  },
  {
   "cell_type": "code",
   "execution_count": 34,
   "id": "4c007fb9-f504-47f5-8389-544e875c5c90",
   "metadata": {},
   "outputs": [
    {
     "data": {
      "image/png": "[encoded data removed]",
      "text/plain": [
       "<Figure size 600x600 with 1 Axes>"
      ]
     },
     "metadata": {},
     "output_type": "display_data"
    }
   ],
   "source": [
    "pay_counts = df['Willing_to_Pay_for_Access'].value_counts()\n",
    "\n",
    "# Create pie chart\n",
    "plt.figure(figsize=(6,6))\n",
    "plt.pie(\n",
    "    pay_counts,\n",
    "    labels=pay_counts.index,\n",
    "    autopct='%1.1f%%',        \n",
    "    startangle=140,\n",
    "    colors=['#003366', '#d3d3d3'],\n",
    "    textprops = {\"fontsize\":15},\n",
    "    wedgeprops={'edgecolor': 'black'},\n",
    "    explode=(0.04, 0.04),   \n",
    "    shadow=True\n",
    ")\n",
    "\n",
    "plt.title('Willingness to Pay for Access', fontsize=16, fontweight='bold')\n",
    "plt.tight_layout()\n",
    "plt.show()"
   ]
  },
  {
   "cell_type": "markdown",
   "id": "1ff30fd1-4afd-4185-ab69-425d00f42f1c",
   "metadata": {},
   "source": [
    "- **Students are almost evenly split: ~50% would pay, 50% would not.**\n",
    "\n",
    "- **There's no strong preference overall—opinions are divided.**\n",
    "\n",
    "- **It shows cost is a barrier for many students.**\n",
    "\n",
    "- **Opportunity: If AI tools become more affordable, adoption could rise.**"
   ]
  },
  {
   "cell_type": "markdown",
   "id": "3a5915be-b625-4bff-afa6-4cbdb3c61489",
   "metadata": {},
   "source": [
    "## Average Trust Level by Preferred AI Tool"
   ]
  },
  {
   "cell_type": "code",
   "execution_count": 35,
   "id": "26c2947e-0bd6-4931-97fe-a424fe64b5ff",
   "metadata": {},
   "outputs": [
    {
     "data": {
      "image/png": "[encoded data removed]",
      "text/plain": [
       "<Figure size 1000x500 with 1 Axes>"
      ]
     },
     "metadata": {},
     "output_type": "display_data"
    }
   ],
   "source": [
    "trust_usage = df.groupby('Preferred_AI_Tool')['Trust_in_AI_Tools'].mean().reset_index()\n",
    "\n",
    "plt.figure(figsize=(10, 5))\n",
    "sns.lineplot(x='Preferred_AI_Tool',y='Trust_in_AI_Tools',data=trust_usage,marker='o',markersize=15,color='#003366',linewidth=2)\n",
    "\n",
    "\n",
    "plt.title('Average Trust Level by Preferred AI Tool', fontsize=20, fontweight='bold')\n",
    "plt.xlabel('Preferred AI Tool', fontsize=14)\n",
    "plt.ylabel('Average Trust Level', fontsize=14)\n",
    "\n",
    "plt.tight_layout()\n",
    "plt.show()"
   ]
  },
  {
   "cell_type": "markdown",
   "id": "e98d5034-3f91-4302-8254-fa4218169975",
   "metadata": {},
   "source": [
    "- **Copilot has the highest trust score among students.**\n",
    "\n",
    "- **Claude has the lowest trust, even less than “Other” tools.**\n",
    "\n",
    "- **ChatGPT and Gemini have similar moderate trust.**\n",
    "\n",
    "- **Trust doesn’t always match popularity—some tools are used more but trusted less.**\n",
    "\n"
   ]
  },
  {
   "cell_type": "markdown",
   "id": "85ccdb4f-878e-48e1-8f12-6092b34b0e7a",
   "metadata": {},
   "source": [
    "## Awareness Level vs Preferred Tool"
   ]
  },
  {
   "cell_type": "code",
   "execution_count": 36,
   "id": "94ad2705-7fbc-4870-8dd9-cda699f654a7",
   "metadata": {},
   "outputs": [
    {
     "data": {
      "image/png": "[encoded data removed]",
      "text/plain": [
       "<Figure size 800x600 with 1 Axes>"
      ]
     },
     "metadata": {},
     "output_type": "display_data"
    }
   ],
   "source": [
    "plt.figure(figsize=(8,6))\n",
    "sns.countplot(data=df, x='Awareness_Level', hue='Preferred_AI_Tool',palette=\"magma\")\n",
    "plt.xticks(rotation=45)\n",
    "plt.title(\"Preferred AI Tool by Awareness Level\")\n",
    "plt.show()"
   ]
  },
  {
   "cell_type": "markdown",
   "id": "250cb9bd-f6b5-4734-a3a4-5ef7d1fbb553",
   "metadata": {},
   "source": [
    "- **Higher awareness levels (8–10) show more ChatGPT and Copilot users.**\n",
    "\n",
    "- **Awareness influences choice—more knowledge leads to better tool selection.**\n",
    "\n",
    "- **Bard and Claude remain less popular across all levels.**\n",
    "\n"
   ]
  },
  {
   "cell_type": "markdown",
   "id": "8293df80-28ae-4fe8-b3fe-917fc6ea20cb",
   "metadata": {},
   "source": [
    "## Average Daily Usage Hours by State and Stream"
   ]
  },
  {
   "cell_type": "code",
   "execution_count": 37,
   "id": "83c4d05e-71b7-453f-bacd-62a30a33c244",
   "metadata": {},
   "outputs": [
    {
     "data": {
      "image/png": "[encoded data removed]",
      "text/plain": [
       "<Figure size 1200x800 with 2 Axes>"
      ]
     },
     "metadata": {},
     "output_type": "display_data"
    }
   ],
   "source": [
    "# Create pivot table: Average daily usage hours by State and Stream\n",
    "pivot_table = df.pivot_table(\n",
    "    values='Daily_Usage_Hours',\n",
    "    index='AI_Tools_Used',\n",
    "    columns='Stream',\n",
    "    aggfunc='mean'\n",
    ")\n",
    "\n",
    "# Plot heatmap\n",
    "plt.figure(figsize=(12, 8))\n",
    "sns.heatmap(\n",
    "    pivot_table,\n",
    "    annot=True,\n",
    "    fmt=\".1f\",\n",
    "    cmap='magma',    # same palette as your example\n",
    "    linewidths=0.5,\n",
    "    cbar_kws={\"label\": \"Avg Daily Usage (Hours)\"}\n",
    ")\n",
    "\n",
    "plt.title(' Average Daily Usage Hours by State and Stream', fontsize=18, fontweight='bold')\n",
    "plt.xlabel('Stream', fontsize=12)\n",
    "plt.ylabel('State', fontsize=12)\n",
    "plt.tight_layout()\n",
    "plt.show()\n"
   ]
  },
  {
   "cell_type": "markdown",
   "id": "c71dbd2c-8623-43d8-a17a-85626d1940da",
   "metadata": {},
   "source": [
    "- **Streams like Management, Science, and Commerce show higher AI usage.**\n",
    "\n",
    "- **Some states like Punjab and Maharashtra lead in usage time.**\n",
    "\n",
    "- **Engineering students in some states use AI the least (below 2.0 hours).**\n",
    "\n",
    "- **Students using multiple tools (e.g., ChatGPT + Gemini + Copilot) often use AI more frequently.**)\n",
    "\n"
   ]
  },
  {
   "cell_type": "code",
   "execution_count": null,
   "id": "ae0ec21e-f886-471a-bda6-3b9faaa09530",
   "metadata": {},
   "outputs": [],
   "source": []
  }
 ],
 "metadata": {
  "kernelspec": {
   "display_name": "Python [conda env:base] *",
   "language": "python",
   "name": "conda-base-py"
  },
  "language_info": {
   "codemirror_mode": {
    "name": "ipython",
    "version": 3
   },
   "file_extension": ".py",
   "mimetype": "text/x-python",
   "name": "python",
   "nbconvert_exporter": "python",
   "pygments_lexer": "ipython3",
   "version": "3.13.5"
  }
 },
 "nbformat": 4,
 "nbformat_minor": 5
}
